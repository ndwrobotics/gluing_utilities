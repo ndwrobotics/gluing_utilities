{
 "cells": [
  {
   "cell_type": "code",
   "execution_count": 63,
   "metadata": {
    "collapsed": false
   },
   "outputs": [
    {
     "name": "stdout",
     "output_type": "stream",
     "text": [
     ]
    }
   ],
   "source": [
    "AttachSpec(\"../../CHIMP/CHIMP.spec\");\n",
    "Attach(\"../src/gluing_utils.m\");\n",
    "Attach(\"../src/fast_gluing.m\");"
   ]
  },
  {
   "cell_type": "code",
   "execution_count": 61,
   "metadata": {
    "collapsed": false
   },
   "outputs": [
    {
     "name": "stdout",
     "output_type": "stream",
     "text": [
     ]
    }
   ],
   "source": [
    "F := RationalsExtra(500);\n",
    "R<T> := PolynomialRing(F);\n",
    "X := ChangeRing(EllipticCurve([0, 0, 1, -1916, -32281]), F);\n",
    "\n",
    "Y := HyperellipticCurve(R![0, -1, -1, 0, 0], R![1, 1, 1, 1]);\n",
    "ell := 5;"
   ]
  },
  {
   "cell_type": "code",
   "execution_count": 64,
   "metadata": {
    "collapsed": false
   },
   "outputs": [
    {
     "name": "stdout",
     "output_type": "stream",
     "text": [
      "Precision for finding H: 300\r\n"
     ]
    },
    {
     "name": "stdout",
     "output_type": "stream",
     "text": [
      "\r\n",
      "---------------------------\r\n",
      "H candidate number: 1 / 156\r\n"
     ]
    },
    {
     "name": "stdout",
     "output_type": "stream",
     "text": [
      "---------------------------\r\n",
      "\r\n",
      "---------------------------\r\n",
      "H candidate number: 2 / 156\r\n"
     ]
    },
    {
     "name": "stdout",
     "output_type": "stream",
     "text": [
      "---------------------------\r\n",
      "\r\n",
      "---------------------------\r\n",
      "H candidate number: 3 / 156\r\n"
     ]
    },
    {
     "name": "stdout",
     "output_type": "stream",
     "text": [
      "---------------------------\r\n",
      "\r\n",
      "---------------------------\r\n",
      "H candidate number: 4 / 156\r\n"
     ]
    },
    {
     "name": "stdout",
     "output_type": "stream",
     "text": [
      "---------------------------\r\n",
      "\r\n",
      "---------------------------\r\n",
      "H candidate number: 5 / 156\r\n"
     ]
    },
    {
     "name": "stdout",
     "output_type": "stream",
     "text": [
      "---------------------------\r\n",
      "\r\n",
      "---------------------------\r\n",
      "H candidate number: 6 / 156\r\n"
     ]
    },
    {
     "name": "stdout",
     "output_type": "stream",
     "text": [
      "---------------------------\r\n",
      "\r\n",
      "---------------------------\r\n",
      "H candidate number: 7 / 156\r\n"
     ]
    },
    {
     "name": "stdout",
     "output_type": "stream",
     "text": [
      "---------------------------\r\n",
      "\r\n",
      "---------------------------\r\n",
      "H candidate number: 8 / 156\r\n"
     ]
    },
    {
     "name": "stdout",
     "output_type": "stream",
     "text": [
      "---------------------------\r\n",
      "\r\n",
      "---------------------------\r\n",
      "H candidate number: 9 / 156\r\n"
     ]
    },
    {
     "name": "stdout",
     "output_type": "stream",
     "text": [
      "---------------------------\r\n",
      "\r\n",
      "---------------------------\r\n",
      "H candidate number: 10 / 156\r\n"
     ]
    },
    {
     "name": "stdout",
     "output_type": "stream",
     "text": [
      "---------------------------\r\n",
      "\r\n",
      "---------------------------\r\n",
      "H candidate number: 11 / 156\r\n"
     ]
    },
    {
     "name": "stdout",
     "output_type": "stream",
     "text": [
      "---------------------------\r\n",
      "\r\n",
      "---------------------------\r\n",
      "H candidate number: 12 / 156\r\n"
     ]
    },
    {
     "name": "stdout",
     "output_type": "stream",
     "text": [
      "---------------------------\r\n",
      "\r\n",
      "---------------------------\r\n",
      "H candidate number: 13 / 156\r\n"
     ]
    },
    {
     "name": "stdout",
     "output_type": "stream",
     "text": [
      "---------------------------\r\n",
      "\r\n",
      "---------------------------\r\n",
      "H candidate number: 14 / 156\r\n"
     ]
    },
    {
     "name": "stdout",
     "output_type": "stream",
     "text": [
      "---------------------------\r\n",
      "\r\n",
      "---------------------------\r\n",
      "H candidate number: 15 / 156\r\n"
     ]
    },
    {
     "name": "stdout",
     "output_type": "stream",
     "text": [
      "---------------------------\r\n",
      "\r\n",
      "---------------------------\r\n",
      "H candidate number: 16 / 156\r\n"
     ]
    },
    {
     "name": "stdout",
     "output_type": "stream",
     "text": [
      "---------------------------\r\n",
      "\r\n",
      "---------------------------\r\n",
      "H candidate number: 17 / 156\r\n"
     ]
    },
    {
     "name": "stdout",
     "output_type": "stream",
     "text": [
      "---------------------------\r\n",
      "\r\n",
      "---------------------------\r\n",
      "H candidate number: 18 / 156\r\n"
     ]
    },
    {
     "name": "stdout",
     "output_type": "stream",
     "text": [
      "---------------------------\r\n",
      "\r\n",
      "---------------------------\r\n",
      "H candidate number: 19 / 156\r\n"
     ]
    },
    {
     "name": "stdout",
     "output_type": "stream",
     "text": [
      "---------------------------\r\n",
      "\r\n",
      "---------------------------\r\n",
      "H candidate number: 20 / 156\r\n"
     ]
    },
    {
     "name": "stdout",
     "output_type": "stream",
     "text": [
      "---------------------------\r\n",
      "\r\n",
      "---------------------------\r\n",
      "H candidate number: 21 / 156\r\n"
     ]
    },
    {
     "name": "stdout",
     "output_type": "stream",
     "text": [
      "---------------------------\r\n",
      "\r\n",
      "---------------------------\r\n",
      "H candidate number: 22 / 156\r\n"
     ]
    },
    {
     "name": "stdout",
     "output_type": "stream",
     "text": [
      "---------------------------\r\n",
      "\r\n",
      "---------------------------\r\n",
      "H candidate number: 23 / 156\r\n"
     ]
    },
    {
     "name": "stdout",
     "output_type": "stream",
     "text": [
      "---------------------------\r\n",
      "\r\n",
      "---------------------------\r\n",
      "H candidate number: 24 / 156\r\n"
     ]
    },
    {
     "name": "stdout",
     "output_type": "stream",
     "text": [
      "---------------------------\r\n",
      "\r\n",
      "---------------------------\r\n",
      "H candidate number: 25 / 156\r\n"
     ]
    },
    {
     "name": "stdout",
     "output_type": "stream",
     "text": [
      "---------------------------\r\n",
      "\r\n",
      "---------------------------\r\n",
      "H candidate number: 26 / 156\r\n"
     ]
    },
    {
     "name": "stdout",
     "output_type": "stream",
     "text": [
      "---------------------------\r\n",
      "\r\n",
      "---------------------------\r\n",
      "H candidate number: 27 / 156\r\n"
     ]
    },
    {
     "name": "stdout",
     "output_type": "stream",
     "text": [
      "---------------------------\r\n",
      "\r\n",
      "---------------------------\r\n",
      "H candidate number: 28 / 156\r\n"
     ]
    },
    {
     "name": "stdout",
     "output_type": "stream",
     "text": [
      "---------------------------\r\n",
      "\r\n",
      "---------------------------\r\n",
      "H candidate number: 29 / 156\r\n"
     ]
    },
    {
     "name": "stdout",
     "output_type": "stream",
     "text": [
      "---------------------------\r\n",
      "\r\n",
      "---------------------------\r\n",
      "H candidate number: 30 / 156\r\n"
     ]
    },
    {
     "name": "stdout",
     "output_type": "stream",
     "text": [
      "---------------------------\r\n",
      "\r\n",
      "---------------------------\r\n",
      "H candidate number: 31 / 156\r\n"
     ]
    },
    {
     "name": "stdout",
     "output_type": "stream",
     "text": [
      "---------------------------\r\n",
      "\r\n",
      "---------------------------\r\n",
      "H candidate number: 32 / 156\r\n"
     ]
    },
    {
     "name": "stdout",
     "output_type": "stream",
     "text": [
      "---------------------------\r\n",
      "\r\n",
      "---------------------------\r\n",
      "H candidate number: 33 / 156\r\n"
     ]
    },
    {
     "name": "stdout",
     "output_type": "stream",
     "text": [
      "---------------------------\r\n",
      "\r\n",
      "---------------------------\r\n",
      "H candidate number: 34 / 156\r\n"
     ]
    },
    {
     "name": "stdout",
     "output_type": "stream",
     "text": [
      "---------------------------\r\n",
      "\r\n",
      "---------------------------\r\n",
      "H candidate number: 35 / 156\r\n"
     ]
    },
    {
     "name": "stdout",
     "output_type": "stream",
     "text": [
      "---------------------------\r\n",
      "\r\n",
      "---------------------------\r\n",
      "H candidate number: 36 / 156\r\n"
     ]
    },
    {
     "name": "stdout",
     "output_type": "stream",
     "text": [
      "---------------------------\r\n",
      "\r\n",
      "---------------------------\r\n",
      "H candidate number: 37 / 156\r\n"
     ]
    },
    {
     "name": "stdout",
     "output_type": "stream",
     "text": [
      "---------------------------\r\n",
      "\r\n",
      "---------------------------\r\n",
      "H candidate number: 38 / 156\r\n"
     ]
    },
    {
     "name": "stdout",
     "output_type": "stream",
     "text": [
      "---------------------------\r\n",
      "\r\n",
      "---------------------------\r\n",
      "H candidate number: 39 / 156\r\n"
     ]
    },
    {
     "name": "stdout",
     "output_type": "stream",
     "text": [
      "---------------------------\r\n",
      "\r\n",
      "---------------------------\r\n",
      "H candidate number: 40 / 156\r\n"
     ]
    },
    {
     "name": "stdout",
     "output_type": "stream",
     "text": [
      "---------------------------\r\n",
      "\r\n",
      "---------------------------\r\n",
      "H candidate number: 41 / 156\r\n"
     ]
    },
    {
     "name": "stdout",
     "output_type": "stream",
     "text": [
      "---------------------------\r\n",
      "\r\n",
      "---------------------------\r\n",
      "H candidate number: 42 / 156\r\n"
     ]
    },
    {
     "name": "stdout",
     "output_type": "stream",
     "text": [
      "---------------------------\r\n",
      "\r\n",
      "---------------------------\r\n",
      "H candidate number: 43 / 156\r\n"
     ]
    },
    {
     "name": "stdout",
     "output_type": "stream",
     "text": [
      "---------------------------\r\n",
      "\r\n",
      "---------------------------\r\n",
      "H candidate number: 44 / 156\r\n"
     ]
    },
    {
     "name": "stdout",
     "output_type": "stream",
     "text": [
      "---------------------------\r\n",
      "\r\n",
      "---------------------------\r\n",
      "H candidate number: 45 / 156\r\n"
     ]
    },
    {
     "name": "stdout",
     "output_type": "stream",
     "text": [
      "---------------------------\r\n",
      "\r\n",
      "---------------------------\r\n",
      "H candidate number: 46 / 156\r\n"
     ]
    },
    {
     "name": "stdout",
     "output_type": "stream",
     "text": [
      "---------------------------\r\n",
      "\r\n",
      "---------------------------\r\n",
      "H candidate number: 47 / 156\r\n"
     ]
    },
    {
     "name": "stdout",
     "output_type": "stream",
     "text": [
      "---------------------------\r\n",
      "\r\n",
      "---------------------------\r\n",
      "H candidate number: 48 / 156\r\n"
     ]
    },
    {
     "name": "stdout",
     "output_type": "stream",
     "text": [
      "---------------------------\r\n",
      "\r\n",
      "---------------------------\r\n",
      "H candidate number: 49 / 156\r\n"
     ]
    },
    {
     "name": "stdout",
     "output_type": "stream",
     "text": [
      "---------------------------\r\n",
      "\r\n",
      "---------------------------\r\n",
      "H candidate number: 50 / 156\r\n"
     ]
    },
    {
     "name": "stdout",
     "output_type": "stream",
     "text": [
      "---------------------------\r\n",
      "\r\n",
      "---------------------------\r\n",
      "H candidate number: 51 / 156\r\n"
     ]
    },
    {
     "name": "stdout",
     "output_type": "stream",
     "text": [
      "---------------------------\r\n",
      "\r\n",
      "---------------------------\r\n",
      "H candidate number: 52 / 156\r\n"
     ]
    },
    {
     "name": "stdout",
     "output_type": "stream",
     "text": [
      "---------------------------\r\n",
      "\r\n",
      "---------------------------\r\n",
      "H candidate number: 53 / 156\r\n"
     ]
    },
    {
     "name": "stdout",
     "output_type": "stream",
     "text": [
      "---------------------------\r\n",
      "\r\n",
      "---------------------------\r\n",
      "H candidate number: 54 / 156\r\n"
     ]
    },
    {
     "name": "stdout",
     "output_type": "stream",
     "text": [
      "---------------------------\r\n",
      "\r\n",
      "---------------------------\r\n",
      "H candidate number: 55 / 156\r\n"
     ]
    },
    {
     "name": "stdout",
     "output_type": "stream",
     "text": [
      "---------------------------\r\n",
      "\r\n",
      "---------------------------\r\n",
      "H candidate number: 56 / 156\r\n"
     ]
    },
    {
     "name": "stdout",
     "output_type": "stream",
     "text": [
      "---------------------------\r\n",
      "\r\n",
      "---------------------------\r\n",
      "H candidate number: 57 / 156\r\n"
     ]
    },
    {
     "name": "stdout",
     "output_type": "stream",
     "text": [
      "---------------------------\r\n",
      "\r\n",
      "---------------------------\r\n",
      "H candidate number: 58 / 156\r\n"
     ]
    },
    {
     "name": "stdout",
     "output_type": "stream",
     "text": [
      "---------------------------\r\n",
      "\r\n",
      "---------------------------\r\n",
      "H candidate number: 59 / 156\r\n"
     ]
    },
    {
     "name": "stdout",
     "output_type": "stream",
     "text": [
      "---------------------------\r\n",
      "\r\n",
      "---------------------------\r\n",
      "H candidate number: 60 / 156\r\n"
     ]
    },
    {
     "name": "stdout",
     "output_type": "stream",
     "text": [
      "---------------------------\r\n",
      "\r\n",
      "---------------------------\r\n",
      "H candidate number: 61 / 156\r\n"
     ]
    },
    {
     "name": "stdout",
     "output_type": "stream",
     "text": [
      "---------------------------\r\n",
      "\r\n",
      "---------------------------\r\n",
      "H candidate number: 62 / 156\r\n"
     ]
    },
    {
     "name": "stdout",
     "output_type": "stream",
     "text": [
      "---------------------------\r\n",
      "\r\n",
      "---------------------------\r\n",
      "H candidate number: 63 / 156\r\n"
     ]
    },
    {
     "name": "stdout",
     "output_type": "stream",
     "text": [
      "---------------------------\r\n",
      "\r\n",
      "---------------------------\r\n",
      "H candidate number: 64 / 156\r\n"
     ]
    },
    {
     "name": "stdout",
     "output_type": "stream",
     "text": [
      "---------------------------\r\n",
      "\r\n",
      "---------------------------\r\n",
      "H candidate number: 65 / 156\r\n"
     ]
    },
    {
     "name": "stdout",
     "output_type": "stream",
     "text": [
      "---------------------------\r\n",
      "\r\n",
      "---------------------------\r\n",
      "H candidate number: 66 / 156\r\n"
     ]
    },
    {
     "name": "stdout",
     "output_type": "stream",
     "text": [
      "---------------------------\r\n",
      "\r\n",
      "---------------------------\r\n",
      "H candidate number: 67 / 156\r\n"
     ]
    },
    {
     "name": "stdout",
     "output_type": "stream",
     "text": [
      "---------------------------\r\n",
      "\r\n",
      "---------------------------\r\n",
      "H candidate number: 68 / 156\r\n"
     ]
    },
    {
     "name": "stdout",
     "output_type": "stream",
     "text": [
      "---------------------------\r\n",
      "\r\n",
      "---------------------------\r\n",
      "H candidate number: 69 / 156\r\n"
     ]
    },
    {
     "name": "stdout",
     "output_type": "stream",
     "text": [
      "---------------------------\r\n",
      "\r\n",
      "---------------------------\r\n",
      "H candidate number: 70 / 156\r\n"
     ]
    },
    {
     "name": "stdout",
     "output_type": "stream",
     "text": [
      "---------------------------\r\n",
      "\r\n",
      "---------------------------\r\n",
      "H candidate number: 71 / 156\r\n"
     ]
    },
    {
     "name": "stdout",
     "output_type": "stream",
     "text": [
      "---------------------------\r\n",
      "\r\n",
      "---------------------------\r\n",
      "H candidate number: 72 / 156\r\n"
     ]
    },
    {
     "name": "stdout",
     "output_type": "stream",
     "text": [
      "---------------------------\r\n",
      "\r\n",
      "---------------------------\r\n",
      "H candidate number: 73 / 156\r\n"
     ]
    },
    {
     "name": "stdout",
     "output_type": "stream",
     "text": [
      "---------------------------\r\n",
      "\r\n",
      "---------------------------\r\n",
      "H candidate number: 74 / 156\r\n"
     ]
    },
    {
     "name": "stdout",
     "output_type": "stream",
     "text": [
      "---------------------------\r\n",
      "\r\n",
      "---------------------------\r\n",
      "H candidate number: 75 / 156\r\n"
     ]
    },
    {
     "name": "stdout",
     "output_type": "stream",
     "text": [
      "---------------------------\r\n",
      "\r\n",
      "---------------------------\r\n",
      "H candidate number: 76 / 156\r\n"
     ]
    },
    {
     "name": "stdout",
     "output_type": "stream",
     "text": [
      "---------------------------\r\n",
      "\r\n",
      "---------------------------\r\n",
      "H candidate number: 77 / 156\r\n"
     ]
    },
    {
     "name": "stdout",
     "output_type": "stream",
     "text": [
      "---------------------------\r\n",
      "\r\n",
      "---------------------------\r\n",
      "H candidate number: 78 / 156\r\n"
     ]
    },
    {
     "name": "stdout",
     "output_type": "stream",
     "text": [
      "---------------------------\r\n",
      "\r\n",
      "---------------------------\r\n",
      "H candidate number: 79 / 156\r\n"
     ]
    },
    {
     "name": "stdout",
     "output_type": "stream",
     "text": [
      "---------------------------\r\n",
      "\r\n",
      "---------------------------\r\n",
      "H candidate number: 80 / 156\r\n"
     ]
    },
    {
     "name": "stdout",
     "output_type": "stream",
     "text": [
      "---------------------------\r\n",
      "\r\n",
      "---------------------------\r\n",
      "H candidate number: 81 / 156\r\n"
     ]
    },
    {
     "name": "stdout",
     "output_type": "stream",
     "text": [
      "---------------------------\r\n",
      "\r\n",
      "---------------------------\r\n",
      "H candidate number: 82 / 156\r\n"
     ]
    },
    {
     "name": "stdout",
     "output_type": "stream",
     "text": [
      "---------------------------\r\n",
      "\r\n",
      "---------------------------\r\n",
      "H candidate number: 83 / 156\r\n"
     ]
    },
    {
     "name": "stdout",
     "output_type": "stream",
     "text": [
      "---------------------------\r\n",
      "\r\n",
      "---------------------------\r\n",
      "H candidate number: 84 / 156\r\n"
     ]
    },
    {
     "name": "stdout",
     "output_type": "stream",
     "text": [
      "---------------------------\r\n",
      "\r\n",
      "---------------------------\r\n",
      "H candidate number: 85 / 156\r\n"
     ]
    },
    {
     "name": "stdout",
     "output_type": "stream",
     "text": [
      "---------------------------\r\n",
      "\r\n",
      "---------------------------\r\n",
      "H candidate number: 86 / 156\r\n"
     ]
    },
    {
     "name": "stdout",
     "output_type": "stream",
     "text": [
      "---------------------------\r\n",
      "\r\n",
      "---------------------------\r\n",
      "H candidate number: 87 / 156\r\n"
     ]
    },
    {
     "name": "stdout",
     "output_type": "stream",
     "text": [
      "---------------------------\r\n",
      "\r\n",
      "---------------------------\r\n",
      "H candidate number: 88 / 156\r\n"
     ]
    },
    {
     "name": "stdout",
     "output_type": "stream",
     "text": [
      "---------------------------\r\n",
      "\r\n",
      "---------------------------\r\n",
      "H candidate number: 89 / 156\r\n"
     ]
    },
    {
     "name": "stdout",
     "output_type": "stream",
     "text": [
      "---------------------------\r\n",
      "\r\n",
      "---------------------------\r\n",
      "H candidate number: 90 / 156\r\n"
     ]
    },
    {
     "name": "stdout",
     "output_type": "stream",
     "text": [
      "ToAnalyticJacobian: point with large coordinates replaced by point at infinity\r\n"
     ]
    },
    {
     "name": "stdout",
     "output_type": "stream",
     "text": [
      "ToAnalyticJacobian: point with large coordinates replaced by point at infinity\r\n"
     ]
    },
    {
     "name": "stdout",
     "output_type": "stream",
     "text": [
      "Found candidate H\r\n",
      "---------------------------\r\n",
      "\r\n",
      "---------------------------\r\n",
      "H candidate number: 91 / 156\r\n"
     ]
    },
    {
     "name": "stdout",
     "output_type": "stream",
     "text": [
      "---------------------------\r\n",
      "\r\n",
      "---------------------------\r\n",
      "H candidate number: 92 / 156\r\n"
     ]
    },
    {
     "name": "stdout",
     "output_type": "stream",
     "text": [
      "---------------------------\r\n",
      "\r\n",
      "---------------------------\r\n",
      "H candidate number: 93 / 156\r\n"
     ]
    },
    {
     "name": "stdout",
     "output_type": "stream",
     "text": [
      "---------------------------\r\n",
      "\r\n",
      "---------------------------\r\n",
      "H candidate number: 94 / 156\r\n"
     ]
    },
    {
     "name": "stdout",
     "output_type": "stream",
     "text": [
      "---------------------------\r\n",
      "\r\n",
      "---------------------------\r\n",
      "H candidate number: 95 / 156\r\n"
     ]
    },
    {
     "name": "stdout",
     "output_type": "stream",
     "text": [
      "---------------------------\r\n",
      "\r\n",
      "---------------------------\r\n",
      "H candidate number: 96 / 156\r\n"
     ]
    },
    {
     "name": "stdout",
     "output_type": "stream",
     "text": [
      "---------------------------\r\n",
      "\r\n",
      "---------------------------\r\n",
      "H candidate number: 97 / 156\r\n"
     ]
    },
    {
     "name": "stdout",
     "output_type": "stream",
     "text": [
      "---------------------------\r\n",
      "\r\n",
      "---------------------------\r\n",
      "H candidate number: 98 / 156\r\n"
     ]
    },
    {
     "name": "stdout",
     "output_type": "stream",
     "text": [
      "---------------------------\r\n",
      "\r\n",
      "---------------------------\r\n",
      "H candidate number: 99 / 156\r\n"
     ]
    },
    {
     "name": "stdout",
     "output_type": "stream",
     "text": [
      "---------------------------\r\n",
      "\r\n",
      "---------------------------\r\n",
      "H candidate number: 100 / 156\r\n"
     ]
    },
    {
     "name": "stdout",
     "output_type": "stream",
     "text": [
      "---------------------------\r\n",
      "\r\n",
      "---------------------------\r\n",
      "H candidate number: 101 / 156\r\n"
     ]
    },
    {
     "name": "stdout",
     "output_type": "stream",
     "text": [
      "---------------------------\r\n",
      "\r\n",
      "---------------------------\r\n",
      "H candidate number: 102 / 156\r\n"
     ]
    },
    {
     "name": "stdout",
     "output_type": "stream",
     "text": [
      "---------------------------\r\n",
      "\r\n",
      "---------------------------\r\n",
      "H candidate number: 103 / 156\r\n"
     ]
    },
    {
     "name": "stdout",
     "output_type": "stream",
     "text": [
      "---------------------------\r\n",
      "\r\n",
      "---------------------------\r\n",
      "H candidate number: 104 / 156\r\n"
     ]
    },
    {
     "name": "stdout",
     "output_type": "stream",
     "text": [
      "---------------------------\r\n",
      "\r\n",
      "---------------------------\r\n",
      "H candidate number: 105 / 156\r\n"
     ]
    },
    {
     "name": "stdout",
     "output_type": "stream",
     "text": [
      "---------------------------\r\n",
      "\r\n",
      "---------------------------\r\n",
      "H candidate number: 106 / 156\r\n"
     ]
    },
    {
     "name": "stdout",
     "output_type": "stream",
     "text": [
      "---------------------------\r\n",
      "\r\n",
      "---------------------------\r\n",
      "H candidate number: 107 / 156\r\n"
     ]
    },
    {
     "name": "stdout",
     "output_type": "stream",
     "text": [
      "---------------------------\r\n",
      "\r\n",
      "---------------------------\r\n",
      "H candidate number: 108 / 156\r\n"
     ]
    },
    {
     "name": "stdout",
     "output_type": "stream",
     "text": [
      "---------------------------\r\n",
      "\r\n",
      "---------------------------\r\n",
      "H candidate number: 109 / 156\r\n"
     ]
    },
    {
     "name": "stdout",
     "output_type": "stream",
     "text": [
      "---------------------------\r\n",
      "\r\n",
      "---------------------------\r\n",
      "H candidate number: 110 / 156\r\n"
     ]
    },
    {
     "name": "stdout",
     "output_type": "stream",
     "text": [
      "---------------------------\r\n",
      "\r\n",
      "---------------------------\r\n",
      "H candidate number: 111 / 156\r\n"
     ]
    },
    {
     "name": "stdout",
     "output_type": "stream",
     "text": [
      "---------------------------\r\n",
      "\r\n",
      "---------------------------\r\n",
      "H candidate number: 112 / 156\r\n"
     ]
    },
    {
     "name": "stdout",
     "output_type": "stream",
     "text": [
      "---------------------------\r\n",
      "\r\n",
      "---------------------------\r\n",
      "H candidate number: 113 / 156\r\n"
     ]
    },
    {
     "name": "stdout",
     "output_type": "stream",
     "text": [
      "---------------------------\r\n",
      "\r\n",
      "---------------------------\r\n",
      "H candidate number: 114 / 156\r\n"
     ]
    },
    {
     "name": "stdout",
     "output_type": "stream",
     "text": [
      "---------------------------\r\n",
      "\r\n",
      "---------------------------\r\n",
      "H candidate number: 115 / 156\r\n"
     ]
    },
    {
     "name": "stdout",
     "output_type": "stream",
     "text": [
      "---------------------------\r\n",
      "\r\n",
      "---------------------------\r\n",
      "H candidate number: 116 / 156\r\n"
     ]
    },
    {
     "name": "stdout",
     "output_type": "stream",
     "text": [
      "---------------------------\r\n",
      "\r\n",
      "---------------------------\r\n",
      "H candidate number: 117 / 156\r\n"
     ]
    },
    {
     "name": "stdout",
     "output_type": "stream",
     "text": [
      "---------------------------\r\n",
      "\r\n",
      "---------------------------\r\n",
      "H candidate number: 118 / 156\r\n"
     ]
    },
    {
     "name": "stdout",
     "output_type": "stream",
     "text": [
      "---------------------------\r\n",
      "\r\n",
      "---------------------------\r\n",
      "H candidate number: 119 / 156\r\n"
     ]
    },
    {
     "name": "stdout",
     "output_type": "stream",
     "text": [
      "---------------------------\r\n",
      "\r\n",
      "---------------------------\r\n",
      "H candidate number: 120 / 156\r\n"
     ]
    },
    {
     "name": "stdout",
     "output_type": "stream",
     "text": [
      "---------------------------\r\n",
      "\r\n",
      "---------------------------\r\n",
      "H candidate number: 121 / 156\r\n"
     ]
    },
    {
     "name": "stdout",
     "output_type": "stream",
     "text": [
      "---------------------------\r\n",
      "\r\n",
      "---------------------------\r\n",
      "H candidate number: 122 / 156\r\n"
     ]
    },
    {
     "name": "stdout",
     "output_type": "stream",
     "text": [
      "---------------------------\r\n",
      "\r\n",
      "---------------------------\r\n",
      "H candidate number: 123 / 156\r\n"
     ]
    },
    {
     "name": "stdout",
     "output_type": "stream",
     "text": [
      "---------------------------\r\n",
      "\r\n",
      "---------------------------\r\n",
      "H candidate number: 124 / 156\r\n"
     ]
    },
    {
     "name": "stdout",
     "output_type": "stream",
     "text": [
      "---------------------------\r\n",
      "\r\n",
      "---------------------------\r\n",
      "H candidate number: 125 / 156\r\n"
     ]
    },
    {
     "name": "stdout",
     "output_type": "stream",
     "text": [
      "---------------------------\r\n",
      "\r\n",
      "---------------------------\r\n",
      "H candidate number: 126 / 156\r\n"
     ]
    },
    {
     "name": "stdout",
     "output_type": "stream",
     "text": [
      "---------------------------\r\n",
      "\r\n",
      "---------------------------\r\n",
      "H candidate number: 127 / 156\r\n"
     ]
    },
    {
     "name": "stdout",
     "output_type": "stream",
     "text": [
      "---------------------------\r\n",
      "\r\n",
      "---------------------------\r\n",
      "H candidate number: 128 / 156\r\n"
     ]
    },
    {
     "name": "stdout",
     "output_type": "stream",
     "text": [
      "---------------------------\r\n",
      "\r\n",
      "---------------------------\r\n",
      "H candidate number: 129 / 156\r\n"
     ]
    },
    {
     "name": "stdout",
     "output_type": "stream",
     "text": [
      "---------------------------\r\n",
      "\r\n",
      "---------------------------\r\n",
      "H candidate number: 130 / 156\r\n"
     ]
    },
    {
     "name": "stdout",
     "output_type": "stream",
     "text": [
      "---------------------------\r\n",
      "\r\n",
      "---------------------------\r\n",
      "H candidate number: 131 / 156\r\n"
     ]
    },
    {
     "name": "stdout",
     "output_type": "stream",
     "text": [
      "---------------------------\r\n",
      "\r\n",
      "---------------------------\r\n",
      "H candidate number: 132 / 156\r\n"
     ]
    },
    {
     "name": "stdout",
     "output_type": "stream",
     "text": [
      "---------------------------\r\n",
      "\r\n",
      "---------------------------\r\n",
      "H candidate number: 133 / 156\r\n"
     ]
    },
    {
     "name": "stdout",
     "output_type": "stream",
     "text": [
      "---------------------------\r\n",
      "\r\n",
      "---------------------------\r\n",
      "H candidate number: 134 / 156\r\n"
     ]
    },
    {
     "name": "stdout",
     "output_type": "stream",
     "text": [
      "---------------------------\r\n",
      "\r\n",
      "---------------------------\r\n",
      "H candidate number: 135 / 156\r\n"
     ]
    },
    {
     "name": "stdout",
     "output_type": "stream",
     "text": [
      "---------------------------\r\n",
      "\r\n",
      "---------------------------\r\n",
      "H candidate number: 136 / 156\r\n"
     ]
    },
    {
     "name": "stdout",
     "output_type": "stream",
     "text": [
      "---------------------------\r\n",
      "\r\n",
      "---------------------------\r\n",
      "H candidate number: 137 / 156\r\n"
     ]
    },
    {
     "name": "stdout",
     "output_type": "stream",
     "text": [
      "---------------------------\r\n",
      "\r\n",
      "---------------------------\r\n",
      "H candidate number: 138 / 156\r\n"
     ]
    },
    {
     "name": "stdout",
     "output_type": "stream",
     "text": [
      "---------------------------\r\n",
      "\r\n",
      "---------------------------\r\n",
      "H candidate number: 139 / 156\r\n"
     ]
    },
    {
     "name": "stdout",
     "output_type": "stream",
     "text": [
      "---------------------------\r\n",
      "\r\n",
      "---------------------------\r\n",
      "H candidate number: 140 / 156\r\n"
     ]
    },
    {
     "name": "stdout",
     "output_type": "stream",
     "text": [
      "---------------------------\r\n",
      "\r\n",
      "---------------------------\r\n",
      "H candidate number: 141 / 156\r\n"
     ]
    },
    {
     "name": "stdout",
     "output_type": "stream",
     "text": [
      "---------------------------\r\n",
      "\r\n",
      "---------------------------\r\n",
      "H candidate number: 142 / 156\r\n"
     ]
    },
    {
     "name": "stdout",
     "output_type": "stream",
     "text": [
      "---------------------------\r\n",
      "\r\n",
      "---------------------------\r\n",
      "H candidate number: 143 / 156\r\n"
     ]
    },
    {
     "name": "stdout",
     "output_type": "stream",
     "text": [
      "---------------------------\r\n",
      "\r\n",
      "---------------------------\r\n",
      "H candidate number: 144 / 156\r\n"
     ]
    },
    {
     "name": "stdout",
     "output_type": "stream",
     "text": [
      "---------------------------\r\n",
      "\r\n",
      "---------------------------\r\n",
      "H candidate number: 145 / 156\r\n"
     ]
    },
    {
     "name": "stdout",
     "output_type": "stream",
     "text": [
      "---------------------------\r\n",
      "\r\n",
      "---------------------------\r\n",
      "H candidate number: 146 / 156\r\n"
     ]
    },
    {
     "name": "stdout",
     "output_type": "stream",
     "text": [
      "---------------------------\r\n",
      "\r\n",
      "---------------------------\r\n",
      "H candidate number: 147 / 156\r\n"
     ]
    },
    {
     "name": "stdout",
     "output_type": "stream",
     "text": [
      "---------------------------\r\n",
      "\r\n",
      "---------------------------\r\n",
      "H candidate number: 148 / 156\r\n"
     ]
    },
    {
     "name": "stdout",
     "output_type": "stream",
     "text": [
      "---------------------------\r\n",
      "\r\n",
      "---------------------------\r\n",
      "H candidate number: 149 / 156\r\n"
     ]
    },
    {
     "name": "stdout",
     "output_type": "stream",
     "text": [
      "---------------------------\r\n",
      "\r\n",
      "---------------------------\r\n",
      "H candidate number: 150 / 156\r\n"
     ]
    },
    {
     "name": "stdout",
     "output_type": "stream",
     "text": [
      "---------------------------\r\n",
      "\r\n",
      "---------------------------\r\n",
      "H candidate number: 151 / 156\r\n"
     ]
    },
    {
     "name": "stdout",
     "output_type": "stream",
     "text": [
      "---------------------------\r\n",
      "\r\n",
      "---------------------------\r\n",
      "H candidate number: 152 / 156\r\n"
     ]
    },
    {
     "name": "stdout",
     "output_type": "stream",
     "text": [
      "---------------------------\r\n",
      "\r\n",
      "---------------------------\r\n",
      "H candidate number: 153 / 156\r\n"
     ]
    },
    {
     "name": "stdout",
     "output_type": "stream",
     "text": [
      "---------------------------\r\n",
      "\r\n",
      "---------------------------\r\n",
      "H candidate number: 154 / 156\r\n"
     ]
    },
    {
     "name": "stdout",
     "output_type": "stream",
     "text": [
      "---------------------------\r\n",
      "\r\n",
      "---------------------------\r\n",
      "H candidate number: 155 / 156\r\n"
     ]
    },
    {
     "name": "stdout",
     "output_type": "stream",
     "text": [
      "---------------------------\r\n",
      "\r\n",
      "---------------------------\r\n",
      "H candidate number: 156 / 156\r\n"
     ]
    },
    {
     "name": "stdout",
     "output_type": "stream",
     "text": [
      "---------------------------\r\n",
      "Rational Field\r\n",
      "Coordinates for H candidates:\r\n",
      "[ (4 : 3 : 2 : 1) ]\r\n",
      "Precision for algebraizing invariants 500\r\n",
      "\r\n",
      "-----------------------\r\n",
      "Subgroup number: 1 / 120\r\n",
      "-----------------------\r\n"
     ]
    },
    {
     "name": "stdout",
     "output_type": "stream",
     "text": [
      "\r\n",
      "-----------------------\r\n",
      "Subgroup number: 2 / 120\r\n",
      "-----------------------\r\n"
     ]
    },
    {
     "name": "stdout",
     "output_type": "stream",
     "text": [
      "\r\n",
      "-----------------------\r\n",
      "Subgroup number: 3 / 120\r\n",
      "-----------------------\r\n"
     ]
    },
    {
     "name": "stdout",
     "output_type": "stream",
     "text": [
      "\r\n",
      "-----------------------\r\n",
      "Subgroup number: 4 / 120\r\n",
      "-----------------------\r\n"
     ]
    },
    {
     "name": "stdout",
     "output_type": "stream",
     "text": [
      "\r\n",
      "-----------------------\r\n",
      "Subgroup number: 5 / 120\r\n",
      "-----------------------\r\n"
     ]
    },
    {
     "name": "stdout",
     "output_type": "stream",
     "text": [
      "\r\n",
      "-----------------------\r\n",
      "Subgroup number: 6 / 120\r\n",
      "-----------------------\r\n"
     ]
    },
    {
     "name": "stdout",
     "output_type": "stream",
     "text": [
      "\r\n",
      "-----------------------\r\n",
      "Subgroup number: 7 / 120\r\n",
      "-----------------------\r\n"
     ]
    },
    {
     "name": "stdout",
     "output_type": "stream",
     "text": [
      "\r\n",
      "-----------------------\r\n",
      "Subgroup number: 8 / 120\r\n",
      "-----------------------\r\n"
     ]
    },
    {
     "name": "stdout",
     "output_type": "stream",
     "text": [
      "\r\n",
      "-----------------------\r\n",
      "Subgroup number: 9 / 120\r\n",
      "-----------------------\r\n"
     ]
    },
    {
     "name": "stdout",
     "output_type": "stream",
     "text": [
      "\r\n",
      "-----------------------\r\n",
      "Subgroup number: 10 / 120\r\n",
      "-----------------------\r\n"
     ]
    },
    {
     "name": "stdout",
     "output_type": "stream",
     "text": [
      "\r\n",
      "-----------------------\r\n",
      "Subgroup number: 11 / 120\r\n",
      "-----------------------\r\n"
     ]
    },
    {
     "name": "stdout",
     "output_type": "stream",
     "text": [
      "\r\n",
      "-----------------------\r\n",
      "Subgroup number: 12 / 120\r\n",
      "-----------------------\r\n"
     ]
    },
    {
     "name": "stdout",
     "output_type": "stream",
     "text": [
      "\r\n",
      "-----------------------\r\n",
      "Subgroup number: 13 / 120\r\n",
      "-----------------------\r\n"
     ]
    },
    {
     "name": "stdout",
     "output_type": "stream",
     "text": [
      "\r\n",
      "-----------------------\r\n",
      "Subgroup number: 14 / 120\r\n",
      "-----------------------\r\n"
     ]
    },
    {
     "name": "stdout",
     "output_type": "stream",
     "text": [
      "\r\n",
      "-----------------------\r\n",
      "Subgroup number: 15 / 120\r\n",
      "-----------------------\r\n"
     ]
    },
    {
     "name": "stdout",
     "output_type": "stream",
     "text": [
      "\r\n",
      "-----------------------\r\n",
      "Subgroup number: 16 / 120\r\n",
      "-----------------------\r\n"
     ]
    },
    {
     "name": "stdout",
     "output_type": "stream",
     "text": [
      "\r\n",
      "-----------------------\r\n",
      "Subgroup number: 17 / 120\r\n",
      "-----------------------\r\n"
     ]
    },
    {
     "name": "stdout",
     "output_type": "stream",
     "text": [
      "\r\n",
      "-----------------------\r\n",
      "Subgroup number: 18 / 120\r\n",
      "-----------------------\r\n"
     ]
    },
    {
     "name": "stdout",
     "output_type": "stream",
     "text": [
      "\r\n",
      "-----------------------\r\n",
      "Subgroup number: 19 / 120\r\n",
      "-----------------------\r\n"
     ]
    },
    {
     "name": "stdout",
     "output_type": "stream",
     "text": [
      "\r\n",
      "-----------------------\r\n",
      "Subgroup number: 20 / 120\r\n",
      "-----------------------\r\n"
     ]
    },
    {
     "name": "stdout",
     "output_type": "stream",
     "text": [
      "\r\n",
      "-----------------------\r\n",
      "Subgroup number: 21 / 120\r\n",
      "-----------------------\r\n"
     ]
    },
    {
     "name": "stdout",
     "output_type": "stream",
     "text": [
      "\r\n",
      "-----------------------\r\n",
      "Subgroup number: 22 / 120\r\n",
      "-----------------------\r\n"
     ]
    },
    {
     "name": "stdout",
     "output_type": "stream",
     "text": [
      "\r\n",
      "-----------------------\r\n",
      "Subgroup number: 23 / 120\r\n",
      "-----------------------\r\n"
     ]
    },
    {
     "name": "stdout",
     "output_type": "stream",
     "text": [
      "\r\n",
      "-----------------------\r\n",
      "Subgroup number: 24 / 120\r\n",
      "-----------------------\r\n"
     ]
    },
    {
     "name": "stdout",
     "output_type": "stream",
     "text": [
      "\r\n",
      "-----------------------\r\n",
      "Subgroup number: 25 / 120\r\n",
      "-----------------------\r\n"
     ]
    },
    {
     "name": "stdout",
     "output_type": "stream",
     "text": [
      "\r\n",
      "-----------------------\r\n",
      "Subgroup number: 26 / 120\r\n",
      "-----------------------\r\n"
     ]
    },
    {
     "name": "stdout",
     "output_type": "stream",
     "text": [
      "\r\n",
      "-----------------------\r\n",
      "Subgroup number: 27 / 120\r\n",
      "-----------------------\r\n"
     ]
    },
    {
     "name": "stdout",
     "output_type": "stream",
     "text": [
      "\r\n",
      "-----------------------\r\n",
      "Subgroup number: 28 / 120\r\n",
      "-----------------------\r\n"
     ]
    },
    {
     "name": "stdout",
     "output_type": "stream",
     "text": [
      "\r\n",
      "-----------------------\r\n",
      "Subgroup number: 29 / 120\r\n",
      "-----------------------\r\n"
     ]
    },
    {
     "name": "stdout",
     "output_type": "stream",
     "text": [
      "\r\n",
      "-----------------------\r\n",
      "Subgroup number: 30 / 120\r\n",
      "-----------------------\r\n"
     ]
    },
    {
     "name": "stdout",
     "output_type": "stream",
     "text": [
      "\r\n",
      "-----------------------\r\n",
      "Subgroup number: 31 / 120\r\n",
      "-----------------------\r\n"
     ]
    },
    {
     "name": "stdout",
     "output_type": "stream",
     "text": [
      "\r\n",
      "-----------------------\r\n",
      "Subgroup number: 32 / 120\r\n",
      "-----------------------\r\n"
     ]
    },
    {
     "name": "stdout",
     "output_type": "stream",
     "text": [
      "\r\n",
      "-----------------------\r\n",
      "Subgroup number: 33 / 120\r\n",
      "-----------------------\r\n"
     ]
    },
    {
     "name": "stdout",
     "output_type": "stream",
     "text": [
      "\r\n",
      "-----------------------\r\n",
      "Subgroup number: 34 / 120\r\n",
      "-----------------------\r\n"
     ]
    },
    {
     "name": "stdout",
     "output_type": "stream",
     "text": [
      "\r\n",
      "Dixmier--Ohno invariants found:\r\n",
      "[ 1, -328943347961958902527698841712215709/18108492300169094687459999459336530632, -6993563561242511145168701299686698906686013254936434861287/980801104943005759489363557341300296062251885219536267104, -4050477385363134019083779031977037645672420380533782956509/980801104943005759489363557341300296062251885219536267104, -295854994957917685350347464334578994861684299731913986955858274235244532575/276680385043832860052379643024981861793887034819176897856047873254418957014, -803709597285275967233786952769382628647782533362557919865009574924471062613/184453590029221906701586428683321241195924689879451265237365248836279304676, 366618250936307195198885498897865557891342037921623697853081693866082887296205726694190633081023/189448845406482773235941883730624539570139751623957538637278895321913949800776975951481919250432, 755888828561822467157669215215217587272667081081437274561582178475380892104254712739123333773787/568346536219448319707825651191873618710419254871872615911836685965741849402330927854445757751296, 36402556317604725993840089897910609356874115903196554088683479398852554877503659990768113202198939092628705490293715/2565255486553122658294166317401441752590372027260677625913020714834734081869007629226791582726323079077223553458176, 4325185606364884898758404189446582019815959773234840747911574886133080663872459565973394604207038412076674853172985/855085162184374219431388772467147250863457342420225875304340238278244693956335876408930527575441026359074517819392, 215265205501133002177444806256806421904913545531336004751512336089092205458806482937279900218763478109265440082152888697755088988514171/69470317405964173866219674531961318731042716890075540508617272204620229024591634688452190116086174383198615460466874697048729156468736, 2245614863539267345155609672270113580259178470135276651639086057000201492267701456428038328755117566055475125516633256457626668843929/97707900711623310641659176556907621281354032194199072445312619134486960653434085356472841232188712212656280535115154285581897547776, 1627903234174810144840611173201722774081678527787896925223087627428308702286484258018887651968840836159014290541775277360759298271037065358283628036582985325067397583/2054821211463079467059661123160260024047807362700541057207798710775386805375553133172092343621075582843714708968004609251162835420695796862936931153342911635137536 ]\r\n",
      "\r\n",
      "-----------------------\r\n",
      "Subgroup number: 35 / 120\r\n",
      "-----------------------\r\n"
     ]
    },
    {
     "name": "stdout",
     "output_type": "stream",
     "text": [
      "\r\n",
      "-----------------------\r\n",
      "Subgroup number: 36 / 120\r\n",
      "-----------------------\r\n"
     ]
    },
    {
     "name": "stdout",
     "output_type": "stream",
     "text": [
      "\r\n",
      "-----------------------\r\n",
      "Subgroup number: 37 / 120\r\n",
      "-----------------------\r\n"
     ]
    },
    {
     "name": "stdout",
     "output_type": "stream",
     "text": [
      "\r\n",
      "-----------------------\r\n",
      "Subgroup number: 38 / 120\r\n",
      "-----------------------\r\n"
     ]
    },
    {
     "name": "stdout",
     "output_type": "stream",
     "text": [
      "\r\n",
      "-----------------------\r\n",
      "Subgroup number: 39 / 120\r\n",
      "-----------------------\r\n"
     ]
    },
    {
     "name": "stdout",
     "output_type": "stream",
     "text": [
      "\r\n",
      "-----------------------\r\n",
      "Subgroup number: 40 / 120\r\n",
      "-----------------------\r\n"
     ]
    },
    {
     "name": "stdout",
     "output_type": "stream",
     "text": [
      "\r\n",
      "-----------------------\r\n",
      "Subgroup number: 41 / 120\r\n",
      "-----------------------\r\n"
     ]
    },
    {
     "name": "stdout",
     "output_type": "stream",
     "text": [
      "\r\n",
      "-----------------------\r\n",
      "Subgroup number: 42 / 120\r\n",
      "-----------------------\r\n"
     ]
    },
    {
     "name": "stdout",
     "output_type": "stream",
     "text": [
      "\r\n",
      "-----------------------\r\n",
      "Subgroup number: 43 / 120\r\n",
      "-----------------------\r\n"
     ]
    },
    {
     "name": "stdout",
     "output_type": "stream",
     "text": [
      "\r\n",
      "-----------------------\r\n",
      "Subgroup number: 44 / 120\r\n",
      "-----------------------\r\n"
     ]
    },
    {
     "name": "stdout",
     "output_type": "stream",
     "text": [
      "\r\n",
      "-----------------------\r\n",
      "Subgroup number: 45 / 120\r\n",
      "-----------------------\r\n"
     ]
    },
    {
     "name": "stdout",
     "output_type": "stream",
     "text": [
      "\r\n",
      "-----------------------\r\n",
      "Subgroup number: 46 / 120\r\n",
      "-----------------------\r\n"
     ]
    },
    {
     "name": "stdout",
     "output_type": "stream",
     "text": [
      "\r\n",
      "Dixmier--Ohno invariants found:\r\n",
      "[ 1, -328943347961958902527698841712215709/18108492300169094687459999459336530632, -6993563561242511145168701299686698906686013254936434861287/980801104943005759489363557341300296062251885219536267104, -4050477385363134019083779031977037645672420380533782956509/980801104943005759489363557341300296062251885219536267104, -295854994957917685350347464334578994861684299731913986955858274235244532575/276680385043832860052379643024981861793887034819176897856047873254418957014, -803709597285275967233786952769382628647782533362557919865009574924471062613/184453590029221906701586428683321241195924689879451265237365248836279304676, 366618250936307195198885498897865557891342037921623697853081693866082887296205726694190633081023/189448845406482773235941883730624539570139751623957538637278895321913949800776975951481919250432, 755888828561822467157669215215217587272667081081437274561582178475380892104254712739123333773787/568346536219448319707825651191873618710419254871872615911836685965741849402330927854445757751296, 36402556317604725993840089897910609356874115903196554088683479398852554877503659990768113202198939092628705490293715/2565255486553122658294166317401441752590372027260677625913020714834734081869007629226791582726323079077223553458176, 4325185606364884898758404189446582019815959773234840747911574886133080663872459565973394604207038412076674853172985/855085162184374219431388772467147250863457342420225875304340238278244693956335876408930527575441026359074517819392, 215265205501133002177444806256806421904913545531336004751512336089092205458806482937279900218763478109265440082152888697755088988514171/69470317405964173866219674531961318731042716890075540508617272204620229024591634688452190116086174383198615460466874697048729156468736, 2245614863539267345155609672270113580259178470135276651639086057000201492267701456428038328755117566055475125516633256457626668843929/97707900711623310641659176556907621281354032194199072445312619134486960653434085356472841232188712212656280535115154285581897547776, 1627903234174810144840611173201722774081678527787896925223087627428308702286484258018887651968840836159014290541775277360759298271037065358283628036582985325067397583/2054821211463079467059661123160260024047807362700541057207798710775386805375553133172092343621075582843714708968004609251162835420695796862936931153342911635137536 ]\r\n",
      "\r\n",
      "-----------------------\r\n",
      "Subgroup number: 47 / 120\r\n",
      "-----------------------\r\n"
     ]
    },
    {
     "name": "stdout",
     "output_type": "stream",
     "text": [
      "\r\n",
      "-----------------------\r\n",
      "Subgroup number: 48 / 120\r\n",
      "-----------------------\r\n",
      "\r\n",
      "-----------------------\r\n",
      "Subgroup number: 49 / 120\r\n",
      "-----------------------\r\n"
     ]
    },
    {
     "name": "stdout",
     "output_type": "stream",
     "text": [
      "\r\n",
      "-----------------------\r\n",
      "Subgroup number: 50 / 120\r\n",
      "-----------------------\r\n"
     ]
    },
    {
     "name": "stdout",
     "output_type": "stream",
     "text": [
      "\r\n",
      "-----------------------\r\n",
      "Subgroup number: 51 / 120\r\n",
      "-----------------------\r\n"
     ]
    },
    {
     "name": "stdout",
     "output_type": "stream",
     "text": [
      "\r\n",
      "-----------------------\r\n",
      "Subgroup number: 52 / 120\r\n",
      "-----------------------\r\n"
     ]
    },
    {
     "name": "stdout",
     "output_type": "stream",
     "text": [
      "\r\n",
      "-----------------------\r\n",
      "Subgroup number: 53 / 120\r\n",
      "-----------------------\r\n"
     ]
    },
    {
     "name": "stdout",
     "output_type": "stream",
     "text": [
      "\r\n",
      "-----------------------\r\n",
      "Subgroup number: 54 / 120\r\n",
      "-----------------------\r\n"
     ]
    },
    {
     "name": "stdout",
     "output_type": "stream",
     "text": [
      "\r\n",
      "-----------------------\r\n",
      "Subgroup number: 55 / 120\r\n",
      "-----------------------\r\n"
     ]
    },
    {
     "name": "stdout",
     "output_type": "stream",
     "text": [
      "\r\n",
      "-----------------------\r\n",
      "Subgroup number: 56 / 120\r\n",
      "-----------------------\r\n"
     ]
    },
    {
     "name": "stdout",
     "output_type": "stream",
     "text": [
      "\r\n",
      "-----------------------\r\n",
      "Subgroup number: 57 / 120\r\n",
      "-----------------------\r\n"
     ]
    },
    {
     "name": "stdout",
     "output_type": "stream",
     "text": [
      "\r\n",
      "-----------------------\r\n",
      "Subgroup number: 58 / 120\r\n",
      "-----------------------\r\n"
     ]
    },
    {
     "name": "stdout",
     "output_type": "stream",
     "text": [
      "\r\n",
      "-----------------------\r\n",
      "Subgroup number: 59 / 120\r\n",
      "-----------------------\r\n"
     ]
    },
    {
     "name": "stdout",
     "output_type": "stream",
     "text": [
      "\r\n",
      "-----------------------\r\n",
      "Subgroup number: 60 / 120\r\n",
      "-----------------------\r\n"
     ]
    },
    {
     "name": "stdout",
     "output_type": "stream",
     "text": [
      "\r\n",
      "-----------------------\r\n",
      "Subgroup number: 61 / 120\r\n",
      "-----------------------\r\n"
     ]
    },
    {
     "name": "stdout",
     "output_type": "stream",
     "text": [
      "\r\n",
      "-----------------------\r\n",
      "Subgroup number: 62 / 120\r\n",
      "-----------------------\r\n"
     ]
    },
    {
     "name": "stdout",
     "output_type": "stream",
     "text": [
      "\r\n",
      "-----------------------\r\n",
      "Subgroup number: 63 / 120\r\n",
      "-----------------------\r\n"
     ]
    },
    {
     "name": "stdout",
     "output_type": "stream",
     "text": [
      "\r\n",
      "-----------------------\r\n",
      "Subgroup number: 64 / 120\r\n",
      "-----------------------\r\n"
     ]
    },
    {
     "name": "stdout",
     "output_type": "stream",
     "text": [
      "\r\n",
      "-----------------------\r\n",
      "Subgroup number: 65 / 120\r\n",
      "-----------------------\r\n"
     ]
    },
    {
     "name": "stdout",
     "output_type": "stream",
     "text": [
      "\r\n",
      "-----------------------\r\n",
      "Subgroup number: 66 / 120\r\n",
      "-----------------------\r\n"
     ]
    },
    {
     "name": "stdout",
     "output_type": "stream",
     "text": [
      "\r\n",
      "-----------------------\r\n",
      "Subgroup number: 67 / 120\r\n",
      "-----------------------\r\n"
     ]
    },
    {
     "name": "stdout",
     "output_type": "stream",
     "text": [
      "\r\n",
      "-----------------------\r\n",
      "Subgroup number: 68 / 120\r\n",
      "-----------------------\r\n"
     ]
    },
    {
     "name": "stdout",
     "output_type": "stream",
     "text": [
      "\r\n",
      "-----------------------\r\n",
      "Subgroup number: 69 / 120\r\n",
      "-----------------------\r\n"
     ]
    },
    {
     "name": "stdout",
     "output_type": "stream",
     "text": [
      "\r\n",
      "-----------------------\r\n",
      "Subgroup number: 70 / 120\r\n",
      "-----------------------\r\n"
     ]
    },
    {
     "name": "stdout",
     "output_type": "stream",
     "text": [
      "\r\n",
      "-----------------------\r\n",
      "Subgroup number: 71 / 120\r\n",
      "-----------------------\r\n"
     ]
    },
    {
     "name": "stdout",
     "output_type": "stream",
     "text": [
      "\r\n",
      "-----------------------\r\n",
      "Subgroup number: 72 / 120\r\n",
      "-----------------------\r\n"
     ]
    },
    {
     "name": "stdout",
     "output_type": "stream",
     "text": [
      "\r\n",
      "-----------------------\r\n",
      "Subgroup number: 73 / 120\r\n",
      "-----------------------\r\n"
     ]
    },
    {
     "name": "stdout",
     "output_type": "stream",
     "text": [
      "\r\n",
      "-----------------------\r\n",
      "Subgroup number: 74 / 120\r\n",
      "-----------------------\r\n"
     ]
    },
    {
     "name": "stdout",
     "output_type": "stream",
     "text": [
      "\r\n",
      "-----------------------\r\n",
      "Subgroup number: 75 / 120\r\n",
      "-----------------------\r\n"
     ]
    },
    {
     "name": "stdout",
     "output_type": "stream",
     "text": [
      "\r\n",
      "-----------------------\r\n",
      "Subgroup number: 76 / 120\r\n",
      "-----------------------\r\n"
     ]
    },
    {
     "name": "stdout",
     "output_type": "stream",
     "text": [
      "\r\n",
      "-----------------------\r\n",
      "Subgroup number: 77 / 120\r\n",
      "-----------------------\r\n"
     ]
    },
    {
     "name": "stdout",
     "output_type": "stream",
     "text": [
      "\r\n",
      "-----------------------\r\n",
      "Subgroup number: 78 / 120\r\n",
      "-----------------------\r\n"
     ]
    },
    {
     "name": "stdout",
     "output_type": "stream",
     "text": [
      "\r\n",
      "-----------------------\r\n",
      "Subgroup number: 79 / 120\r\n",
      "-----------------------\r\n"
     ]
    },
    {
     "name": "stdout",
     "output_type": "stream",
     "text": [
      "\r\n",
      "-----------------------\r\n",
      "Subgroup number: 80 / 120\r\n",
      "-----------------------\r\n"
     ]
    },
    {
     "name": "stdout",
     "output_type": "stream",
     "text": [
      "\r\n",
      "-----------------------\r\n",
      "Subgroup number: 81 / 120\r\n",
      "-----------------------\r\n"
     ]
    },
    {
     "name": "stdout",
     "output_type": "stream",
     "text": [
      "\r\n",
      "-----------------------\r\n",
      "Subgroup number: 82 / 120\r\n",
      "-----------------------\r\n"
     ]
    },
    {
     "name": "stdout",
     "output_type": "stream",
     "text": [
      "\r\n",
      "-----------------------\r\n",
      "Subgroup number: 83 / 120\r\n",
      "-----------------------\r\n"
     ]
    },
    {
     "name": "stdout",
     "output_type": "stream",
     "text": [
      "\r\n",
      "-----------------------\r\n",
      "Subgroup number: 84 / 120\r\n",
      "-----------------------\r\n"
     ]
    },
    {
     "name": "stdout",
     "output_type": "stream",
     "text": [
      "\r\n",
      "-----------------------\r\n",
      "Subgroup number: 85 / 120\r\n",
      "-----------------------\r\n"
     ]
    },
    {
     "name": "stdout",
     "output_type": "stream",
     "text": [
      "\r\n",
      "-----------------------\r\n",
      "Subgroup number: 86 / 120\r\n",
      "-----------------------\r\n"
     ]
    },
    {
     "name": "stdout",
     "output_type": "stream",
     "text": [
      "\r\n",
      "-----------------------\r\n",
      "Subgroup number: 87 / 120\r\n",
      "-----------------------\r\n"
     ]
    },
    {
     "name": "stdout",
     "output_type": "stream",
     "text": [
      "\r\n",
      "-----------------------\r\n",
      "Subgroup number: 88 / 120\r\n",
      "-----------------------\r\n"
     ]
    },
    {
     "name": "stdout",
     "output_type": "stream",
     "text": [
      "\r\n",
      "-----------------------\r\n",
      "Subgroup number: 89 / 120\r\n",
      "-----------------------\r\n"
     ]
    },
    {
     "name": "stdout",
     "output_type": "stream",
     "text": [
      "\r\n",
      "-----------------------\r\n",
      "Subgroup number: 90 / 120\r\n",
      "-----------------------\r\n"
     ]
    },
    {
     "name": "stdout",
     "output_type": "stream",
     "text": [
      "\r\n",
      "-----------------------\r\n",
      "Subgroup number: 91 / 120\r\n",
      "-----------------------\r\n"
     ]
    },
    {
     "name": "stdout",
     "output_type": "stream",
     "text": [
      "\r\n",
      "-----------------------\r\n",
      "Subgroup number: 92 / 120\r\n",
      "-----------------------\r\n"
     ]
    },
    {
     "name": "stdout",
     "output_type": "stream",
     "text": [
      "\r\n",
      "-----------------------\r\n",
      "Subgroup number: 93 / 120\r\n",
      "-----------------------\r\n"
     ]
    },
    {
     "name": "stdout",
     "output_type": "stream",
     "text": [
      "\r\n",
      "-----------------------\r\n",
      "Subgroup number: 94 / 120\r\n",
      "-----------------------\r\n"
     ]
    },
    {
     "name": "stdout",
     "output_type": "stream",
     "text": [
      "\r\n",
      "-----------------------\r\n",
      "Subgroup number: 95 / 120\r\n",
      "-----------------------\r\n"
     ]
    },
    {
     "name": "stdout",
     "output_type": "stream",
     "text": [
      "\r\n",
      "-----------------------\r\n",
      "Subgroup number: 96 / 120\r\n",
      "-----------------------\r\n"
     ]
    },
    {
     "name": "stdout",
     "output_type": "stream",
     "text": [
      "\r\n",
      "-----------------------\r\n",
      "Subgroup number: 97 / 120\r\n",
      "-----------------------\r\n"
     ]
    },
    {
     "name": "stdout",
     "output_type": "stream",
     "text": [
      "\r\n",
      "-----------------------\r\n",
      "Subgroup number: 98 / 120\r\n",
      "-----------------------\r\n"
     ]
    },
    {
     "name": "stdout",
     "output_type": "stream",
     "text": [
      "\r\n",
      "-----------------------\r\n",
      "Subgroup number: 99 / 120\r\n",
      "-----------------------\r\n"
     ]
    },
    {
     "name": "stdout",
     "output_type": "stream",
     "text": [
      "\r\n",
      "-----------------------\r\n",
      "Subgroup number: 100 / 120\r\n",
      "-----------------------\r\n"
     ]
    },
    {
     "name": "stdout",
     "output_type": "stream",
     "text": [
      "\r\n",
      "-----------------------\r\n",
      "Subgroup number: 101 / 120\r\n",
      "-----------------------\r\n"
     ]
    },
    {
     "name": "stdout",
     "output_type": "stream",
     "text": [
      "\r\n",
      "-----------------------\r\n",
      "Subgroup number: 102 / 120\r\n",
      "-----------------------\r\n"
     ]
    },
    {
     "name": "stdout",
     "output_type": "stream",
     "text": [
      "\r\n",
      "-----------------------\r\n",
      "Subgroup number: 103 / 120\r\n",
      "-----------------------\r\n"
     ]
    },
    {
     "name": "stdout",
     "output_type": "stream",
     "text": [
      "\r\n",
      "-----------------------\r\n",
      "Subgroup number: 104 / 120\r\n",
      "-----------------------\r\n"
     ]
    },
    {
     "name": "stdout",
     "output_type": "stream",
     "text": [
      "\r\n",
      "-----------------------\r\n",
      "Subgroup number: 105 / 120\r\n",
      "-----------------------\r\n"
     ]
    },
    {
     "name": "stdout",
     "output_type": "stream",
     "text": [
      "\r\n",
      "-----------------------\r\n",
      "Subgroup number: 106 / 120\r\n",
      "-----------------------\r\n"
     ]
    },
    {
     "name": "stdout",
     "output_type": "stream",
     "text": [
      "\r\n",
      "-----------------------\r\n",
      "Subgroup number: 107 / 120\r\n",
      "-----------------------\r\n"
     ]
    },
    {
     "name": "stdout",
     "output_type": "stream",
     "text": [
      "\r\n",
      "-----------------------\r\n",
      "Subgroup number: 108 / 120\r\n",
      "-----------------------\r\n"
     ]
    },
    {
     "name": "stdout",
     "output_type": "stream",
     "text": [
      "\r\n",
      "-----------------------\r\n",
      "Subgroup number: 109 / 120\r\n",
      "-----------------------\r\n"
     ]
    },
    {
     "name": "stdout",
     "output_type": "stream",
     "text": [
      "\r\n",
      "-----------------------\r\n",
      "Subgroup number: 110 / 120\r\n",
      "-----------------------\r\n"
     ]
    },
    {
     "name": "stdout",
     "output_type": "stream",
     "text": [
      "\r\n",
      "-----------------------\r\n",
      "Subgroup number: 111 / 120\r\n",
      "-----------------------\r\n"
     ]
    },
    {
     "name": "stdout",
     "output_type": "stream",
     "text": [
      "\r\n",
      "-----------------------\r\n",
      "Subgroup number: 112 / 120\r\n",
      "-----------------------\r\n"
     ]
    },
    {
     "name": "stdout",
     "output_type": "stream",
     "text": [
      "\r\n",
      "-----------------------\r\n",
      "Subgroup number: 113 / 120\r\n",
      "-----------------------\r\n"
     ]
    },
    {
     "name": "stdout",
     "output_type": "stream",
     "text": [
      "\r\n",
      "-----------------------\r\n",
      "Subgroup number: 114 / 120\r\n",
      "-----------------------\r\n",
      "\r\n",
      "-----------------------\r\n",
      "Subgroup number: 115 / 120\r\n",
      "-----------------------\r\n"
     ]
    },
    {
     "name": "stdout",
     "output_type": "stream",
     "text": [
      "\r\n",
      "-----------------------\r\n",
      "Subgroup number: 116 / 120\r\n",
      "-----------------------\r\n"
     ]
    },
    {
     "name": "stdout",
     "output_type": "stream",
     "text": [
      "\r\n",
      "-----------------------\r\n",
      "Subgroup number: 117 / 120\r\n",
      "-----------------------\r\n"
     ]
    },
    {
     "name": "stdout",
     "output_type": "stream",
     "text": [
      "\r\n",
      "-----------------------\r\n",
      "Subgroup number: 118 / 120\r\n",
      "-----------------------\r\n"
     ]
    },
    {
     "name": "stdout",
     "output_type": "stream",
     "text": [
      "\r\n",
      "-----------------------\r\n",
      "Subgroup number: 119 / 120\r\n",
      "-----------------------\r\n",
      "\r\n",
      "-----------------------\r\n",
      "Subgroup number: 120 / 120\r\n",
      "-----------------------\r\n"
     ]
    },
    {
     "name": "stdout",
     "output_type": "stream",
     "text": [
      "[*\r\n",
      "Curve over Rational Field defined by\r\n",
      "$.1^4 + 1519712464204639059805828825679424986502156078562027148296125106064464849937770178204424370843204764892882553506868816759440216712602818697331895397415134858330819081904974672763345688356448492492322/414450498018117779389521726001559703275871165023193981231835959185213770016578500382010452676211256865342094403186278989254497943478617824715875075547848615986714803098499219140315356598756123611871*$.1^3*$.2 + 191164327960513275482022866065268892796803015882357295512275495561867505748731688060388600891027248258712080505178480179758380466798891647801667774668837431624142230349431719601690079364671641842592/138150166006039259796507242000519901091957055007731327077278653061737923338859500127336817558737085621780698134395426329751499314492872608238625025182616205328904934366166406380105118866252041203957*$.1^3*$.3 + 160422930519919288720611657205873983443898664152070810577306346642959003666362126253805240407732568900698766645910555090485514449277632322283255255929668796663296657688510862906116505227992113917996/46050055335346419932169080666839967030652351669243775692426217687245974446286500042445605852912361873926899378131808776583833104830957536079541675060872068442968311455388802126701706288750680401319*$.1^2*$.2^2 + 430987480972345161857556718719693223794904486733749670264428119861630521726217149172620172708333758956116336340235948745016663937465058158862574557390728000590656134060363098252315213218742696471686/46050055335346419932169080666839967030652351669243775692426217687245974446286500042445605852912361873926899378131808776583833104830957536079541675060872068442968311455388802126701706288750680401319*$.1^2*$.2*$.3 - 26715676976403887034234914989969788165616229669580882021763207176321432935585867269449290618912585734896051081795846148750811344860167097904137274985841409457184301082585281215505504921147090314441877615619046/11344123415768378200424464502655672193971954905298008756048072815549380130607020539789312871455519563981166450610404445335634117896278789645268883113148867226041645308197509401760895078951652070469601832566329*$.1^2*$.3^2 + 20967651072634394712360413508615108788534380365345245132189955410181691035164984069354755774900981831360139837995424291491987984138282438815003332159568336323009614485553557418014647415693477318462/46050055335346419932169080666839967030652351669243775692426217687245974446286500042445605852912361873926899378131808776583833104830957536079541675060872068442968311455388802126701706288750680401319*$.1*$.2^3 + 88792292122142932873418903925936344696585208978603150231072609623515713139186373519077744779793791310225873769401873600697710016101976522850497609871257877565380532652468794540887579679873164007987005440087508/11344123415768378200424464502655672193971954905298008756048072815549380130607020539789312871455519563981166450610404445335634117896278789645268883113148867226041645308197509401760895078951652070469601832566329*$.1*$.2^2*$.3 + 116776824627973336153091784929550198961564355210733448185045556397943931590390048170928843847815025821367229778917477653874661141900060410567099329850733795961056614315540449678967910703788071397054/46050055335346419932169080666839967030652351669243775692426217687245974446286500042445605852912361873926899378131808776583833104830957536079541675060872068442968311455388802126701706288750680401319*$.1*$.2*$.3^2 - 92445447481461175050350900847500676521294654538850273513719581100114495517096309846835148173032390884981208093867373127746573054860609298919806490665929548618773967618008011281895534734415036829256/46050055335346419932169080666839967030652351669243775692426217687245974446286500042445605852912361873926899378131808776583833104830957536079541675060872068442968311455388802126701706288750680401319*$.1*$.3^3 - 2785994908685062054397744984534637515729389357978901164958989228272028472129781597552713555251426771538980995996575488094490824952856779842487584557698071205959881426400380585321181981638608137876375711499741/11344123415768378200424464502655672193971954905298008756048072815549380130607020539789312871455519563981166450610404445335634117896278789645268883113148867226041645308197509401760895078951652070469601832566329*$.2^4 + 67958849668098607756331334538923500938454538120872511327322285106958926532241904950211443953532261258593805769942816510901657765524451543000279658601376429590756892191183101227145831314424425626118/46050055335346419932169080666839967030652351669243775692426217687245974446286500042445605852912361873926899378131808776583833104830957536079541675060872068442968311455388802126701706288750680401319*$.2^3*$.3 + 109373215927223699374764613863487242939212135988218827049359401449899146085625946114160275860986498519928490675009482781383908651326056645725508200840926330076986346564135108603099650851170043997816/46050055335346419932169080666839967030652351669243775692426217687245974446286500042445605852912361873926899378131808776583833104830957536079541675060872068442968311455388802126701706288750680401319*$.2^2*$.3^2 + 24098489038759797038519874994483046543080174398802637322271655965760818852432721758865841561333488834410369401617145881943908068749301462083267809015563605502930173015249682823664008557079045185002/46050055335346419932169080666839967030652351669243775692426217687245974446286500042445605852912361873926899378131808776583833104830957536079541675060872068442968311455388802126701706288750680401319*$.2*$.3^3 - 13776027141105225478323225145501403875765798283482646458105546235881508004980142687804802628059556271808741906373125877110495601249721342318311157618875555150846761635231211668294801350498874267621/46050055335346419932169080666839967030652351669243775692426217687245974446286500042445605852912361873926899378131808776583833104830957536079541675060872068442968311455388802126701706288750680401319*$.3^4\r\n",
      "*]\r\n"
     ]
    },
    {
     "name": "stdout",
     "output_type": "stream",
     "text": [
     ]
    }
   ],
   "source": [
    "GlueFast(X, Y, ell, 500);"
   ]
  },
  {
   "cell_type": "code",
   "execution_count": 62,
   "metadata": {
    "collapsed": false
   },
   "outputs": [
    {
     "name": "stdout",
     "output_type": "stream",
     "text": [
      "Precision for finding H: 300\r\n"
     ]
    },
    {
     "name": "stdout",
     "output_type": "stream",
     "text": [
      "\r\n",
      "---------------------------\r\n",
      "H candidate number: 1 / 156\r\n"
     ]
    },
    {
     "name": "stdout",
     "output_type": "stream",
     "text": [
      "---------------------------\r\n",
      "\r\n",
      "---------------------------\r\n",
      "H candidate number: 2 / 156\r\n"
     ]
    },
    {
     "name": "stdout",
     "output_type": "stream",
     "text": [
      "---------------------------\r\n",
      "\r\n",
      "---------------------------\r\n",
      "H candidate number: 3 / 156\r\n"
     ]
    },
    {
     "name": "stdout",
     "output_type": "stream",
     "text": [
      "---------------------------\r\n",
      "\r\n",
      "---------------------------\r\n",
      "H candidate number: 4 / 156\r\n"
     ]
    },
    {
     "name": "stdout",
     "output_type": "stream",
     "text": [
      "---------------------------\r\n",
      "\r\n",
      "---------------------------\r\n",
      "H candidate number: 5 / 156\r\n"
     ]
    },
    {
     "name": "stdout",
     "output_type": "stream",
     "text": [
      "---------------------------\r\n",
      "\r\n",
      "---------------------------\r\n",
      "H candidate number: 6 / 156\r\n"
     ]
    },
    {
     "name": "stdout",
     "output_type": "stream",
     "text": [
      "---------------------------\r\n",
      "\r\n",
      "---------------------------\r\n",
      "H candidate number: 7 / 156\r\n"
     ]
    },
    {
     "name": "stdout",
     "output_type": "stream",
     "text": [
      "---------------------------\r\n",
      "\r\n",
      "---------------------------\r\n",
      "H candidate number: 8 / 156\r\n"
     ]
    },
    {
     "name": "stdout",
     "output_type": "stream",
     "text": [
      "---------------------------\r\n",
      "\r\n",
      "---------------------------\r\n",
      "H candidate number: 9 / 156\r\n"
     ]
    },
    {
     "name": "stdout",
     "output_type": "stream",
     "text": [
      "---------------------------\r\n",
      "\r\n",
      "---------------------------\r\n",
      "H candidate number: 10 / 156\r\n"
     ]
    },
    {
     "name": "stdout",
     "output_type": "stream",
     "text": [
      "---------------------------\r\n",
      "\r\n",
      "---------------------------\r\n",
      "H candidate number: 11 / 156\r\n"
     ]
    },
    {
     "name": "stdout",
     "output_type": "stream",
     "text": [
      "---------------------------\r\n",
      "\r\n",
      "---------------------------\r\n",
      "H candidate number: 12 / 156\r\n"
     ]
    },
    {
     "name": "stdout",
     "output_type": "stream",
     "text": [
      "---------------------------\r\n",
      "\r\n",
      "---------------------------\r\n",
      "H candidate number: 13 / 156\r\n"
     ]
    },
    {
     "name": "stdout",
     "output_type": "stream",
     "text": [
      "---------------------------\r\n",
      "\r\n",
      "---------------------------\r\n",
      "H candidate number: 14 / 156\r\n"
     ]
    },
    {
     "name": "stdout",
     "output_type": "stream",
     "text": [
      "---------------------------\r\n",
      "\r\n",
      "---------------------------\r\n",
      "H candidate number: 15 / 156\r\n"
     ]
    },
    {
     "name": "stdout",
     "output_type": "stream",
     "text": [
      "---------------------------\r\n",
      "\r\n",
      "---------------------------\r\n",
      "H candidate number: 16 / 156\r\n"
     ]
    },
    {
     "name": "stdout",
     "output_type": "stream",
     "text": [
      "---------------------------\r\n",
      "\r\n",
      "---------------------------\r\n",
      "H candidate number: 17 / 156\r\n"
     ]
    },
    {
     "name": "stdout",
     "output_type": "stream",
     "text": [
      "---------------------------\r\n",
      "\r\n",
      "---------------------------\r\n",
      "H candidate number: 18 / 156\r\n"
     ]
    },
    {
     "name": "stdout",
     "output_type": "stream",
     "text": [
      "---------------------------\r\n",
      "\r\n",
      "---------------------------\r\n",
      "H candidate number: 19 / 156\r\n"
     ]
    },
    {
     "name": "stdout",
     "output_type": "stream",
     "text": [
      "---------------------------\r\n",
      "\r\n",
      "---------------------------\r\n",
      "H candidate number: 20 / 156\r\n"
     ]
    },
    {
     "name": "stdout",
     "output_type": "stream",
     "text": [
      "---------------------------\r\n",
      "\r\n",
      "---------------------------\r\n",
      "H candidate number: 21 / 156\r\n"
     ]
    },
    {
     "name": "stdout",
     "output_type": "stream",
     "text": [
      "---------------------------\r\n",
      "\r\n",
      "---------------------------\r\n",
      "H candidate number: 22 / 156\r\n"
     ]
    },
    {
     "name": "stdout",
     "output_type": "stream",
     "text": [
      "---------------------------\r\n",
      "\r\n",
      "---------------------------\r\n",
      "H candidate number: 23 / 156\r\n"
     ]
    },
    {
     "name": "stdout",
     "output_type": "stream",
     "text": [
      "---------------------------\r\n",
      "\r\n",
      "---------------------------\r\n",
      "H candidate number: 24 / 156\r\n"
     ]
    },
    {
     "name": "stdout",
     "output_type": "stream",
     "text": [
      "---------------------------\r\n",
      "\r\n",
      "---------------------------\r\n",
      "H candidate number: 25 / 156\r\n"
     ]
    },
    {
     "name": "stdout",
     "output_type": "stream",
     "text": [
      "---------------------------\r\n",
      "\r\n",
      "---------------------------\r\n",
      "H candidate number: 26 / 156\r\n"
     ]
    },
    {
     "name": "stdout",
     "output_type": "stream",
     "text": [
      "---------------------------\r\n",
      "\r\n",
      "---------------------------\r\n",
      "H candidate number: 27 / 156\r\n"
     ]
    },
    {
     "name": "stdout",
     "output_type": "stream",
     "text": [
      "---------------------------\r\n",
      "\r\n",
      "---------------------------\r\n",
      "H candidate number: 28 / 156\r\n"
     ]
    },
    {
     "name": "stdout",
     "output_type": "stream",
     "text": [
      "---------------------------\r\n",
      "\r\n",
      "---------------------------\r\n",
      "H candidate number: 29 / 156\r\n"
     ]
    },
    {
     "name": "stdout",
     "output_type": "stream",
     "text": [
      "---------------------------\r\n",
      "\r\n",
      "---------------------------\r\n",
      "H candidate number: 30 / 156\r\n"
     ]
    },
    {
     "name": "stdout",
     "output_type": "stream",
     "text": [
      "---------------------------\r\n",
      "\r\n",
      "---------------------------\r\n",
      "H candidate number: 31 / 156\r\n"
     ]
    },
    {
     "name": "stdout",
     "output_type": "stream",
     "text": [
      "---------------------------\r\n",
      "\r\n",
      "---------------------------\r\n",
      "H candidate number: 32 / 156\r\n"
     ]
    },
    {
     "name": "stdout",
     "output_type": "stream",
     "text": [
      "---------------------------\r\n",
      "\r\n",
      "---------------------------\r\n",
      "H candidate number: 33 / 156\r\n"
     ]
    },
    {
     "name": "stdout",
     "output_type": "stream",
     "text": [
      "---------------------------\r\n",
      "\r\n",
      "---------------------------\r\n",
      "H candidate number: 34 / 156\r\n"
     ]
    },
    {
     "name": "stdout",
     "output_type": "stream",
     "text": [
      "---------------------------\r\n",
      "\r\n",
      "---------------------------\r\n",
      "H candidate number: 35 / 156\r\n"
     ]
    },
    {
     "name": "stdout",
     "output_type": "stream",
     "text": [
      "---------------------------\r\n",
      "\r\n",
      "---------------------------\r\n",
      "H candidate number: 36 / 156\r\n"
     ]
    },
    {
     "name": "stdout",
     "output_type": "stream",
     "text": [
      "---------------------------\r\n",
      "\r\n",
      "---------------------------\r\n",
      "H candidate number: 37 / 156\r\n"
     ]
    },
    {
     "name": "stdout",
     "output_type": "stream",
     "text": [
      "---------------------------\r\n",
      "\r\n",
      "---------------------------\r\n",
      "H candidate number: 38 / 156\r\n"
     ]
    },
    {
     "name": "stdout",
     "output_type": "stream",
     "text": [
      "---------------------------\r\n",
      "\r\n",
      "---------------------------\r\n",
      "H candidate number: 39 / 156\r\n"
     ]
    },
    {
     "name": "stdout",
     "output_type": "stream",
     "text": [
      "---------------------------\r\n",
      "\r\n",
      "---------------------------\r\n",
      "H candidate number: 40 / 156\r\n"
     ]
    },
    {
     "name": "stdout",
     "output_type": "stream",
     "text": [
      "---------------------------\r\n",
      "\r\n",
      "---------------------------\r\n",
      "H candidate number: 41 / 156\r\n"
     ]
    },
    {
     "name": "stdout",
     "output_type": "stream",
     "text": [
      "---------------------------\r\n",
      "\r\n",
      "---------------------------\r\n",
      "H candidate number: 42 / 156\r\n"
     ]
    },
    {
     "name": "stdout",
     "output_type": "stream",
     "text": [
      "---------------------------\r\n",
      "\r\n",
      "---------------------------\r\n",
      "H candidate number: 43 / 156\r\n"
     ]
    },
    {
     "name": "stdout",
     "output_type": "stream",
     "text": [
      "---------------------------\r\n",
      "\r\n",
      "---------------------------\r\n",
      "H candidate number: 44 / 156\r\n"
     ]
    },
    {
     "name": "stdout",
     "output_type": "stream",
     "text": [
      "---------------------------\r\n",
      "\r\n",
      "---------------------------\r\n",
      "H candidate number: 45 / 156\r\n"
     ]
    },
    {
     "name": "stdout",
     "output_type": "stream",
     "text": [
      "---------------------------\r\n",
      "\r\n",
      "---------------------------\r\n",
      "H candidate number: 46 / 156\r\n"
     ]
    },
    {
     "name": "stdout",
     "output_type": "stream",
     "text": [
      "---------------------------\r\n",
      "\r\n",
      "---------------------------\r\n",
      "H candidate number: 47 / 156\r\n"
     ]
    },
    {
     "name": "stdout",
     "output_type": "stream",
     "text": [
      "---------------------------\r\n",
      "\r\n",
      "---------------------------\r\n",
      "H candidate number: 48 / 156\r\n"
     ]
    },
    {
     "name": "stdout",
     "output_type": "stream",
     "text": [
      "---------------------------\r\n",
      "\r\n",
      "---------------------------\r\n",
      "H candidate number: 49 / 156\r\n"
     ]
    },
    {
     "name": "stdout",
     "output_type": "stream",
     "text": [
      "---------------------------\r\n",
      "\r\n",
      "---------------------------\r\n",
      "H candidate number: 50 / 156\r\n"
     ]
    },
    {
     "name": "stdout",
     "output_type": "stream",
     "text": [
      "---------------------------\r\n",
      "\r\n",
      "---------------------------\r\n",
      "H candidate number: 51 / 156\r\n"
     ]
    },
    {
     "name": "stdout",
     "output_type": "stream",
     "text": [
      "---------------------------\r\n",
      "\r\n",
      "---------------------------\r\n",
      "H candidate number: 52 / 156\r\n"
     ]
    },
    {
     "name": "stdout",
     "output_type": "stream",
     "text": [
      "---------------------------\r\n",
      "\r\n",
      "---------------------------\r\n",
      "H candidate number: 53 / 156\r\n"
     ]
    },
    {
     "name": "stdout",
     "output_type": "stream",
     "text": [
      "---------------------------\r\n",
      "\r\n",
      "---------------------------\r\n",
      "H candidate number: 54 / 156\r\n"
     ]
    },
    {
     "name": "stdout",
     "output_type": "stream",
     "text": [
      "---------------------------\r\n",
      "\r\n",
      "---------------------------\r\n",
      "H candidate number: 55 / 156\r\n"
     ]
    },
    {
     "name": "stdout",
     "output_type": "stream",
     "text": [
      "---------------------------\r\n",
      "\r\n",
      "---------------------------\r\n",
      "H candidate number: 56 / 156\r\n"
     ]
    },
    {
     "name": "stdout",
     "output_type": "stream",
     "text": [
      "---------------------------\r\n",
      "\r\n",
      "---------------------------\r\n",
      "H candidate number: 57 / 156\r\n"
     ]
    },
    {
     "name": "stdout",
     "output_type": "stream",
     "text": [
      "---------------------------\r\n",
      "\r\n",
      "---------------------------\r\n",
      "H candidate number: 58 / 156\r\n"
     ]
    },
    {
     "name": "stdout",
     "output_type": "stream",
     "text": [
      "---------------------------\r\n",
      "\r\n",
      "---------------------------\r\n",
      "H candidate number: 59 / 156\r\n"
     ]
    },
    {
     "name": "stdout",
     "output_type": "stream",
     "text": [
      "---------------------------\r\n",
      "\r\n",
      "---------------------------\r\n",
      "H candidate number: 60 / 156\r\n"
     ]
    },
    {
     "name": "stdout",
     "output_type": "stream",
     "text": [
      "---------------------------\r\n",
      "\r\n",
      "---------------------------\r\n",
      "H candidate number: 61 / 156\r\n"
     ]
    },
    {
     "name": "stdout",
     "output_type": "stream",
     "text": [
      "---------------------------\r\n",
      "\r\n",
      "---------------------------\r\n",
      "H candidate number: 62 / 156\r\n"
     ]
    },
    {
     "name": "stdout",
     "output_type": "stream",
     "text": [
      "---------------------------\r\n",
      "\r\n",
      "---------------------------\r\n",
      "H candidate number: 63 / 156\r\n"
     ]
    },
    {
     "name": "stdout",
     "output_type": "stream",
     "text": [
      "---------------------------\r\n",
      "\r\n",
      "---------------------------\r\n",
      "H candidate number: 64 / 156\r\n"
     ]
    },
    {
     "name": "stdout",
     "output_type": "stream",
     "text": [
      "---------------------------\r\n",
      "\r\n",
      "---------------------------\r\n",
      "H candidate number: 65 / 156\r\n"
     ]
    },
    {
     "name": "stdout",
     "output_type": "stream",
     "text": [
      "---------------------------\r\n",
      "\r\n",
      "---------------------------\r\n",
      "H candidate number: 66 / 156\r\n"
     ]
    },
    {
     "name": "stdout",
     "output_type": "stream",
     "text": [
      "---------------------------\r\n",
      "\r\n",
      "---------------------------\r\n",
      "H candidate number: 67 / 156\r\n"
     ]
    },
    {
     "name": "stdout",
     "output_type": "stream",
     "text": [
      "---------------------------\r\n",
      "\r\n",
      "---------------------------\r\n",
      "H candidate number: 68 / 156\r\n"
     ]
    },
    {
     "name": "stdout",
     "output_type": "stream",
     "text": [
      "---------------------------\r\n",
      "\r\n",
      "---------------------------\r\n",
      "H candidate number: 69 / 156\r\n"
     ]
    },
    {
     "name": "stdout",
     "output_type": "stream",
     "text": [
      "---------------------------\r\n",
      "\r\n",
      "---------------------------\r\n",
      "H candidate number: 70 / 156\r\n"
     ]
    },
    {
     "name": "stdout",
     "output_type": "stream",
     "text": [
      "---------------------------\r\n",
      "\r\n",
      "---------------------------\r\n",
      "H candidate number: 71 / 156\r\n"
     ]
    },
    {
     "name": "stdout",
     "output_type": "stream",
     "text": [
      "---------------------------\r\n",
      "\r\n",
      "---------------------------\r\n",
      "H candidate number: 72 / 156\r\n"
     ]
    },
    {
     "name": "stdout",
     "output_type": "stream",
     "text": [
      "---------------------------\r\n",
      "\r\n",
      "---------------------------\r\n",
      "H candidate number: 73 / 156\r\n"
     ]
    },
    {
     "name": "stdout",
     "output_type": "stream",
     "text": [
      "---------------------------\r\n",
      "\r\n",
      "---------------------------\r\n",
      "H candidate number: 74 / 156\r\n"
     ]
    },
    {
     "name": "stdout",
     "output_type": "stream",
     "text": [
      "---------------------------\r\n",
      "\r\n",
      "---------------------------\r\n",
      "H candidate number: 75 / 156\r\n"
     ]
    },
    {
     "name": "stdout",
     "output_type": "stream",
     "text": [
      "---------------------------\r\n",
      "\r\n",
      "---------------------------\r\n",
      "H candidate number: 76 / 156\r\n"
     ]
    },
    {
     "name": "stdout",
     "output_type": "stream",
     "text": [
      "---------------------------\r\n",
      "\r\n",
      "---------------------------\r\n",
      "H candidate number: 77 / 156\r\n"
     ]
    },
    {
     "name": "stdout",
     "output_type": "stream",
     "text": [
      "---------------------------\r\n",
      "\r\n",
      "---------------------------\r\n",
      "H candidate number: 78 / 156\r\n"
     ]
    },
    {
     "name": "stdout",
     "output_type": "stream",
     "text": [
      "---------------------------\r\n",
      "\r\n",
      "---------------------------\r\n",
      "H candidate number: 79 / 156\r\n"
     ]
    },
    {
     "name": "stdout",
     "output_type": "stream",
     "text": [
      "---------------------------\r\n",
      "\r\n",
      "---------------------------\r\n",
      "H candidate number: 80 / 156\r\n"
     ]
    },
    {
     "name": "stdout",
     "output_type": "stream",
     "text": [
      "---------------------------\r\n",
      "\r\n",
      "---------------------------\r\n",
      "H candidate number: 81 / 156\r\n"
     ]
    },
    {
     "name": "stdout",
     "output_type": "stream",
     "text": [
      "---------------------------\r\n",
      "\r\n",
      "---------------------------\r\n",
      "H candidate number: 82 / 156\r\n"
     ]
    },
    {
     "name": "stdout",
     "output_type": "stream",
     "text": [
      "---------------------------\r\n",
      "\r\n",
      "---------------------------\r\n",
      "H candidate number: 83 / 156\r\n"
     ]
    },
    {
     "name": "stdout",
     "output_type": "stream",
     "text": [
      "---------------------------\r\n",
      "\r\n",
      "---------------------------\r\n",
      "H candidate number: 84 / 156\r\n"
     ]
    },
    {
     "name": "stdout",
     "output_type": "stream",
     "text": [
      "---------------------------\r\n",
      "\r\n",
      "---------------------------\r\n",
      "H candidate number: 85 / 156\r\n"
     ]
    },
    {
     "name": "stdout",
     "output_type": "stream",
     "text": [
      "---------------------------\r\n",
      "\r\n",
      "---------------------------\r\n",
      "H candidate number: 86 / 156\r\n"
     ]
    },
    {
     "name": "stdout",
     "output_type": "stream",
     "text": [
      "---------------------------\r\n",
      "\r\n",
      "---------------------------\r\n",
      "H candidate number: 87 / 156\r\n"
     ]
    },
    {
     "name": "stdout",
     "output_type": "stream",
     "text": [
      "---------------------------\r\n",
      "\r\n",
      "---------------------------\r\n",
      "H candidate number: 88 / 156\r\n"
     ]
    },
    {
     "name": "stdout",
     "output_type": "stream",
     "text": [
      "---------------------------\r\n",
      "\r\n",
      "---------------------------\r\n",
      "H candidate number: 89 / 156\r\n"
     ]
    },
    {
     "name": "stdout",
     "output_type": "stream",
     "text": [
      "---------------------------\r\n",
      "\r\n",
      "---------------------------\r\n",
      "H candidate number: 90 / 156\r\n"
     ]
    },
    {
     "name": "stdout",
     "output_type": "stream",
     "text": [
      "ToAnalyticJacobian: point with large coordinates replaced by point at infinity\r\n"
     ]
    },
    {
     "name": "stdout",
     "output_type": "stream",
     "text": [
      "ToAnalyticJacobian: point with large coordinates replaced by point at infinity\r\n"
     ]
    },
    {
     "name": "stdout",
     "output_type": "stream",
     "text": [
      "Found candidate H\r\n",
      "---------------------------\r\n",
      "\r\n",
      "---------------------------\r\n",
      "H candidate number: 91 / 156\r\n"
     ]
    },
    {
     "name": "stdout",
     "output_type": "stream",
     "text": [
      "---------------------------\r\n",
      "\r\n",
      "---------------------------\r\n",
      "H candidate number: 92 / 156\r\n"
     ]
    },
    {
     "name": "stdout",
     "output_type": "stream",
     "text": [
      "---------------------------\r\n",
      "\r\n",
      "---------------------------\r\n",
      "H candidate number: 93 / 156\r\n"
     ]
    },
    {
     "name": "stdout",
     "output_type": "stream",
     "text": [
      "---------------------------\r\n",
      "\r\n",
      "---------------------------\r\n",
      "H candidate number: 94 / 156\r\n"
     ]
    },
    {
     "name": "stdout",
     "output_type": "stream",
     "text": [
      "---------------------------\r\n",
      "\r\n",
      "---------------------------\r\n",
      "H candidate number: 95 / 156\r\n"
     ]
    },
    {
     "name": "stdout",
     "output_type": "stream",
     "text": [
      "---------------------------\r\n",
      "\r\n",
      "---------------------------\r\n",
      "H candidate number: 96 / 156\r\n"
     ]
    },
    {
     "name": "stdout",
     "output_type": "stream",
     "text": [
      "---------------------------\r\n",
      "\r\n",
      "---------------------------\r\n",
      "H candidate number: 97 / 156\r\n"
     ]
    },
    {
     "name": "stdout",
     "output_type": "stream",
     "text": [
      "---------------------------\r\n",
      "\r\n",
      "---------------------------\r\n",
      "H candidate number: 98 / 156\r\n"
     ]
    },
    {
     "name": "stdout",
     "output_type": "stream",
     "text": [
      "---------------------------\r\n",
      "\r\n",
      "---------------------------\r\n",
      "H candidate number: 99 / 156\r\n"
     ]
    },
    {
     "name": "stdout",
     "output_type": "stream",
     "text": [
      "---------------------------\r\n",
      "\r\n",
      "---------------------------\r\n"
     ]
    },
    {
     "name": "stdout",
     "output_type": "stream",
     "text": [
      "H candidate number: 100 / 156\r\n"
     ]
    },
    {
     "name": "stdout",
     "output_type": "stream",
     "text": [
      "---------------------------\r\n",
      "\r\n",
      "---------------------------\r\n",
      "H candidate number: 101 / 156\r\n"
     ]
    },
    {
     "name": "stdout",
     "output_type": "stream",
     "text": [
      "---------------------------\r\n",
      "\r\n",
      "---------------------------\r\n",
      "H candidate number: 102 / 156\r\n"
     ]
    },
    {
     "name": "stdout",
     "output_type": "stream",
     "text": [
      "---------------------------\r\n",
      "\r\n",
      "---------------------------\r\n",
      "H candidate number: 103 / 156\r\n"
     ]
    },
    {
     "name": "stdout",
     "output_type": "stream",
     "text": [
      "---------------------------\r\n",
      "\r\n",
      "---------------------------\r\n",
      "H candidate number: 104 / 156\r\n"
     ]
    },
    {
     "name": "stdout",
     "output_type": "stream",
     "text": [
      "---------------------------\r\n",
      "\r\n",
      "---------------------------\r\n",
      "H candidate number: 105 / 156\r\n"
     ]
    },
    {
     "name": "stdout",
     "output_type": "stream",
     "text": [
      "---------------------------\r\n",
      "\r\n",
      "---------------------------\r\n",
      "H candidate number: 106 / 156\r\n"
     ]
    },
    {
     "name": "stdout",
     "output_type": "stream",
     "text": [
      "---------------------------\r\n",
      "\r\n",
      "---------------------------\r\n",
      "H candidate number: 107 / 156\r\n"
     ]
    },
    {
     "name": "stdout",
     "output_type": "stream",
     "text": [
      "---------------------------\r\n",
      "\r\n",
      "---------------------------\r\n",
      "H candidate number: 108 / 156\r\n"
     ]
    },
    {
     "name": "stdout",
     "output_type": "stream",
     "text": [
      "---------------------------\r\n",
      "\r\n",
      "---------------------------\r\n",
      "H candidate number: 109 / 156\r\n"
     ]
    },
    {
     "name": "stdout",
     "output_type": "stream",
     "text": [
      "---------------------------\r\n",
      "\r\n",
      "---------------------------\r\n",
      "H candidate number: 110 / 156\r\n"
     ]
    },
    {
     "name": "stdout",
     "output_type": "stream",
     "text": [
      "---------------------------\r\n",
      "\r\n",
      "---------------------------\r\n",
      "H candidate number: 111 / 156\r\n"
     ]
    },
    {
     "name": "stdout",
     "output_type": "stream",
     "text": [
      "---------------------------\r\n",
      "\r\n",
      "---------------------------\r\n",
      "H candidate number: 112 / 156\r\n"
     ]
    },
    {
     "name": "stdout",
     "output_type": "stream",
     "text": [
      "---------------------------\r\n",
      "\r\n",
      "---------------------------\r\n",
      "H candidate number: 113 / 156\r\n"
     ]
    },
    {
     "name": "stdout",
     "output_type": "stream",
     "text": [
      "---------------------------\r\n",
      "\r\n",
      "---------------------------\r\n",
      "H candidate number: 114 / 156\r\n"
     ]
    },
    {
     "name": "stdout",
     "output_type": "stream",
     "text": [
      "---------------------------\r\n",
      "\r\n",
      "---------------------------\r\n",
      "H candidate number: 115 / 156\r\n"
     ]
    },
    {
     "name": "stdout",
     "output_type": "stream",
     "text": [
      "---------------------------\r\n",
      "\r\n",
      "---------------------------\r\n",
      "H candidate number: 116 / 156\r\n"
     ]
    },
    {
     "name": "stdout",
     "output_type": "stream",
     "text": [
      "---------------------------\r\n",
      "\r\n",
      "---------------------------\r\n",
      "H candidate number: 117 / 156\r\n"
     ]
    },
    {
     "name": "stdout",
     "output_type": "stream",
     "text": [
      "---------------------------\r\n",
      "\r\n",
      "---------------------------\r\n",
      "H candidate number: 118 / 156\r\n"
     ]
    },
    {
     "name": "stdout",
     "output_type": "stream",
     "text": [
      "---------------------------\r\n",
      "\r\n",
      "---------------------------\r\n",
      "H candidate number: 119 / 156\r\n"
     ]
    },
    {
     "name": "stdout",
     "output_type": "stream",
     "text": [
      "---------------------------\r\n",
      "\r\n",
      "---------------------------\r\n",
      "H candidate number: 120 / 156\r\n"
     ]
    },
    {
     "name": "stdout",
     "output_type": "stream",
     "text": [
      "---------------------------\r\n",
      "\r\n",
      "---------------------------\r\n",
      "H candidate number: 121 / 156\r\n"
     ]
    },
    {
     "name": "stdout",
     "output_type": "stream",
     "text": [
      "---------------------------\r\n",
      "\r\n",
      "---------------------------\r\n",
      "H candidate number: 122 / 156\r\n"
     ]
    },
    {
     "name": "stdout",
     "output_type": "stream",
     "text": [
      "---------------------------\r\n",
      "\r\n",
      "---------------------------\r\n",
      "H candidate number: 123 / 156\r\n"
     ]
    },
    {
     "name": "stdout",
     "output_type": "stream",
     "text": [
      "---------------------------\r\n",
      "\r\n",
      "---------------------------\r\n",
      "H candidate number: 124 / 156\r\n"
     ]
    },
    {
     "name": "stdout",
     "output_type": "stream",
     "text": [
      "---------------------------\r\n",
      "\r\n",
      "---------------------------\r\n",
      "H candidate number: 125 / 156\r\n"
     ]
    },
    {
     "name": "stdout",
     "output_type": "stream",
     "text": [
      "---------------------------\r\n",
      "\r\n",
      "---------------------------\r\n",
      "H candidate number: 126 / 156\r\n"
     ]
    },
    {
     "name": "stdout",
     "output_type": "stream",
     "text": [
      "---------------------------\r\n",
      "\r\n",
      "---------------------------\r\n",
      "H candidate number: 127 / 156\r\n"
     ]
    },
    {
     "name": "stdout",
     "output_type": "stream",
     "text": [
      "---------------------------\r\n",
      "\r\n",
      "---------------------------\r\n",
      "H candidate number: 128 / 156\r\n"
     ]
    },
    {
     "name": "stdout",
     "output_type": "stream",
     "text": [
      "---------------------------\r\n",
      "\r\n",
      "---------------------------\r\n",
      "H candidate number: 129 / 156\r\n"
     ]
    },
    {
     "name": "stdout",
     "output_type": "stream",
     "text": [
      "---------------------------\r\n",
      "\r\n",
      "---------------------------\r\n",
      "H candidate number: 130 / 156\r\n"
     ]
    },
    {
     "name": "stdout",
     "output_type": "stream",
     "text": [
      "---------------------------\r\n",
      "\r\n",
      "---------------------------\r\n",
      "H candidate number: 131 / 156\r\n"
     ]
    },
    {
     "name": "stdout",
     "output_type": "stream",
     "text": [
      "---------------------------\r\n",
      "\r\n",
      "---------------------------\r\n",
      "H candidate number: 132 / 156\r\n"
     ]
    },
    {
     "name": "stdout",
     "output_type": "stream",
     "text": [
      "---------------------------\r\n",
      "\r\n",
      "---------------------------\r\n",
      "H candidate number: 133 / 156\r\n"
     ]
    },
    {
     "name": "stdout",
     "output_type": "stream",
     "text": [
      "---------------------------\r\n",
      "\r\n",
      "---------------------------\r\n",
      "H candidate number: 134 / 156\r\n"
     ]
    },
    {
     "name": "stdout",
     "output_type": "stream",
     "text": [
      "---------------------------\r\n",
      "\r\n",
      "---------------------------\r\n",
      "H candidate number: 135 / 156\r\n"
     ]
    },
    {
     "name": "stdout",
     "output_type": "stream",
     "text": [
      "---------------------------\r\n",
      "\r\n",
      "---------------------------\r\n",
      "H candidate number: 136 / 156\r\n"
     ]
    },
    {
     "name": "stdout",
     "output_type": "stream",
     "text": [
      "---------------------------\r\n",
      "\r\n",
      "---------------------------\r\n",
      "H candidate number: 137 / 156\r\n"
     ]
    },
    {
     "name": "stdout",
     "output_type": "stream",
     "text": [
      "---------------------------\r\n",
      "\r\n",
      "---------------------------\r\n",
      "H candidate number: 138 / 156\r\n"
     ]
    },
    {
     "name": "stdout",
     "output_type": "stream",
     "text": [
      "---------------------------\r\n",
      "\r\n",
      "---------------------------\r\n",
      "H candidate number: 139 / 156\r\n"
     ]
    },
    {
     "name": "stdout",
     "output_type": "stream",
     "text": [
      "---------------------------\r\n",
      "\r\n",
      "---------------------------\r\n",
      "H candidate number: 140 / 156\r\n"
     ]
    },
    {
     "name": "stdout",
     "output_type": "stream",
     "text": [
      "---------------------------\r\n",
      "\r\n",
      "---------------------------\r\n",
      "H candidate number: 141 / 156\r\n"
     ]
    },
    {
     "name": "stdout",
     "output_type": "stream",
     "text": [
      "---------------------------\r\n",
      "\r\n",
      "---------------------------\r\n",
      "H candidate number: 142 / 156\r\n"
     ]
    },
    {
     "name": "stdout",
     "output_type": "stream",
     "text": [
      "---------------------------\r\n",
      "\r\n",
      "---------------------------\r\n",
      "H candidate number: 143 / 156\r\n"
     ]
    },
    {
     "name": "stdout",
     "output_type": "stream",
     "text": [
      "---------------------------\r\n",
      "\r\n",
      "---------------------------\r\n",
      "H candidate number: 144 / 156\r\n"
     ]
    },
    {
     "name": "stdout",
     "output_type": "stream",
     "text": [
      "---------------------------\r\n",
      "\r\n",
      "---------------------------\r\n",
      "H candidate number: 145 / 156\r\n"
     ]
    },
    {
     "name": "stdout",
     "output_type": "stream",
     "text": [
      "---------------------------\r\n",
      "\r\n",
      "---------------------------\r\n",
      "H candidate number: 146 / 156\r\n"
     ]
    },
    {
     "name": "stdout",
     "output_type": "stream",
     "text": [
      "---------------------------\r\n",
      "\r\n",
      "---------------------------\r\n",
      "H candidate number: 147 / 156\r\n"
     ]
    },
    {
     "name": "stdout",
     "output_type": "stream",
     "text": [
      "---------------------------\r\n",
      "\r\n",
      "---------------------------\r\n",
      "H candidate number: 148 / 156\r\n"
     ]
    },
    {
     "name": "stdout",
     "output_type": "stream",
     "text": [
      "---------------------------\r\n",
      "\r\n",
      "---------------------------\r\n",
      "H candidate number: 149 / 156\r\n"
     ]
    },
    {
     "name": "stdout",
     "output_type": "stream",
     "text": [
      "---------------------------\r\n",
      "\r\n",
      "---------------------------\r\n",
      "H candidate number: 150 / 156\r\n"
     ]
    },
    {
     "name": "stdout",
     "output_type": "stream",
     "text": [
      "---------------------------\r\n",
      "\r\n",
      "---------------------------\r\n",
      "H candidate number: 151 / 156\r\n"
     ]
    },
    {
     "name": "stdout",
     "output_type": "stream",
     "text": [
      "---------------------------\r\n",
      "\r\n",
      "---------------------------\r\n",
      "H candidate number: 152 / 156\r\n"
     ]
    },
    {
     "name": "stdout",
     "output_type": "stream",
     "text": [
      "---------------------------\r\n",
      "\r\n",
      "---------------------------\r\n",
      "H candidate number: 153 / 156\r\n"
     ]
    },
    {
     "name": "stdout",
     "output_type": "stream",
     "text": [
      "---------------------------\r\n",
      "\r\n",
      "---------------------------\r\n",
      "H candidate number: 154 / 156\r\n"
     ]
    },
    {
     "name": "stdout",
     "output_type": "stream",
     "text": [
      "---------------------------\r\n",
      "\r\n",
      "---------------------------\r\n",
      "H candidate number: 155 / 156\r\n"
     ]
    },
    {
     "name": "stdout",
     "output_type": "stream",
     "text": [
      "---------------------------\r\n",
      "\r\n",
      "---------------------------\r\n",
      "H candidate number: 156 / 156\r\n"
     ]
    },
    {
     "name": "stdout",
     "output_type": "stream",
     "text": [
      "---------------------------\r\n",
      "Rational Field\r\n",
      "Coordinates for H candidates:\r\n",
      "[ (4 : 3 : 2 : 1) ]\r\n"
     ]
    },
    {
     "name": "stdout",
     "output_type": "stream",
     "text": [
      "Precision for algebraizing invariants 500\r\n",
      "\r\n",
      "-----------------------\r\n",
      "Subgroup number: 1 / 120\r\n",
      "-----------------------\r\n"
     ]
    },
    {
     "name": "stdout",
     "output_type": "stream",
     "text": [
      "\r\n",
      "-----------------------\r\n",
      "Subgroup number: 2 / 120\r\n",
      "-----------------------\r\n"
     ]
    },
    {
     "name": "stdout",
     "output_type": "stream",
     "text": [
      "\r\n",
      "-----------------------\r\n",
      "Subgroup number: 3 / 120\r\n",
      "-----------------------\r\n"
     ]
    },
    {
     "name": "stdout",
     "output_type": "stream",
     "text": [
      "\r\n",
      "-----------------------\r\n",
      "Subgroup number: 4 / 120\r\n",
      "-----------------------\r\n"
     ]
    },
    {
     "name": "stdout",
     "output_type": "stream",
     "text": [
      "\r\n",
      "-----------------------\r\n",
      "Subgroup number: 5 / 120\r\n",
      "-----------------------\r\n"
     ]
    },
    {
     "name": "stdout",
     "output_type": "stream",
     "text": [
      "\r\n",
      "-----------------------\r\n",
      "Subgroup number: 6 / 120\r\n",
      "-----------------------\r\n"
     ]
    },
    {
     "name": "stdout",
     "output_type": "stream",
     "text": [
      "\r\n",
      "-----------------------\r\n",
      "Subgroup number: 7 / 120\r\n",
      "-----------------------\r\n"
     ]
    },
    {
     "name": "stdout",
     "output_type": "stream",
     "text": [
      "\r\n",
      "-----------------------\r\n",
      "Subgroup number: 8 / 120\r\n",
      "-----------------------\r\n"
     ]
    },
    {
     "name": "stdout",
     "output_type": "stream",
     "text": [
      "\r\n",
      "-----------------------\r\n",
      "Subgroup number: 9 / 120\r\n",
      "-----------------------\r\n"
     ]
    },
    {
     "name": "stdout",
     "output_type": "stream",
     "text": [
      "\r\n",
      "-----------------------\r\n",
      "Subgroup number: 10 / 120\r\n",
      "-----------------------\r\n"
     ]
    },
    {
     "name": "stdout",
     "output_type": "stream",
     "text": [
      "\r\n",
      "-----------------------\r\n",
      "Subgroup number: 11 / 120\r\n",
      "-----------------------\r\n"
     ]
    },
    {
     "name": "stdout",
     "output_type": "stream",
     "text": [
      "\r\n",
      "-----------------------\r\n",
      "Subgroup number: 12 / 120\r\n",
      "-----------------------\r\n"
     ]
    },
    {
     "name": "stdout",
     "output_type": "stream",
     "text": [
      "\r\n",
      "-----------------------\r\n",
      "Subgroup number: 13 / 120\r\n",
      "-----------------------\r\n"
     ]
    },
    {
     "name": "stdout",
     "output_type": "stream",
     "text": [
      "\r\n",
      "-----------------------\r\n",
      "Subgroup number: 14 / 120\r\n",
      "-----------------------\r\n"
     ]
    },
    {
     "name": "stdout",
     "output_type": "stream",
     "text": [
      "\r\n",
      "-----------------------\r\n",
      "Subgroup number: 15 / 120\r\n",
      "-----------------------\r\n"
     ]
    },
    {
     "name": "stdout",
     "output_type": "stream",
     "text": [
      "\r\n",
      "-----------------------\r\n",
      "Subgroup number: 16 / 120\r\n",
      "-----------------------\r\n"
     ]
    },
    {
     "name": "stdout",
     "output_type": "stream",
     "text": [
      "\r\n",
      "-----------------------\r\n",
      "Subgroup number: 17 / 120\r\n",
      "-----------------------\r\n"
     ]
    },
    {
     "name": "stdout",
     "output_type": "stream",
     "text": [
      "\r\n",
      "-----------------------\r\n",
      "Subgroup number: 18 / 120\r\n",
      "-----------------------\r\n"
     ]
    },
    {
     "name": "stdout",
     "output_type": "stream",
     "text": [
      "\r\n",
      "-----------------------\r\n",
      "Subgroup number: 19 / 120\r\n",
      "-----------------------\r\n"
     ]
    },
    {
     "name": "stdout",
     "output_type": "stream",
     "text": [
      "\r\n",
      "-----------------------\r\n",
      "Subgroup number: 20 / 120\r\n",
      "-----------------------\r\n"
     ]
    },
    {
     "name": "stdout",
     "output_type": "stream",
     "text": [
      "\r\n",
      "-----------------------\r\n",
      "Subgroup number: 21 / 120\r\n",
      "-----------------------\r\n"
     ]
    },
    {
     "name": "stdout",
     "output_type": "stream",
     "text": [
      "\r\n",
      "-----------------------\r\n",
      "Subgroup number: 22 / 120\r\n",
      "-----------------------\r\n"
     ]
    },
    {
     "name": "stdout",
     "output_type": "stream",
     "text": [
      "\r\n",
      "-----------------------\r\n",
      "Subgroup number: 23 / 120\r\n",
      "-----------------------\r\n"
     ]
    },
    {
     "name": "stdout",
     "output_type": "stream",
     "text": [
      "\r\n",
      "-----------------------\r\n",
      "Subgroup number: 24 / 120\r\n",
      "-----------------------\r\n"
     ]
    },
    {
     "name": "stdout",
     "output_type": "stream",
     "text": [
      "\r\n",
      "-----------------------\r\n",
      "Subgroup number: 25 / 120\r\n",
      "-----------------------\r\n"
     ]
    },
    {
     "name": "stdout",
     "output_type": "stream",
     "text": [
      "\r\n",
      "-----------------------\r\n",
      "Subgroup number: 26 / 120\r\n",
      "-----------------------\r\n"
     ]
    },
    {
     "name": "stdout",
     "output_type": "stream",
     "text": [
      "\r\n",
      "-----------------------\r\n",
      "Subgroup number: 27 / 120\r\n",
      "-----------------------\r\n"
     ]
    },
    {
     "name": "stdout",
     "output_type": "stream",
     "text": [
      "\r\n",
      "-----------------------\r\n",
      "Subgroup number: 28 / 120\r\n",
      "-----------------------\r\n"
     ]
    },
    {
     "name": "stdout",
     "output_type": "stream",
     "text": [
      "\r\n",
      "-----------------------\r\n",
      "Subgroup number: 29 / 120\r\n",
      "-----------------------\r\n"
     ]
    },
    {
     "name": "stdout",
     "output_type": "stream",
     "text": [
      "\r\n",
      "-----------------------\r\n",
      "Subgroup number: 30 / 120\r\n",
      "-----------------------\r\n"
     ]
    },
    {
     "name": "stdout",
     "output_type": "stream",
     "text": [
      "\r\n",
      "-----------------------\r\n",
      "Subgroup number: 31 / 120\r\n",
      "-----------------------\r\n"
     ]
    },
    {
     "name": "stdout",
     "output_type": "stream",
     "text": [
      "\r\n",
      "-----------------------\r\n",
      "Subgroup number: 32 / 120\r\n",
      "-----------------------\r\n"
     ]
    },
    {
     "name": "stdout",
     "output_type": "stream",
     "text": [
      "\r\n",
      "-----------------------\r\n",
      "Subgroup number: 33 / 120\r\n",
      "-----------------------\r\n"
     ]
    },
    {
     "name": "stdout",
     "output_type": "stream",
     "text": [
      "\r\n",
      "-----------------------\r\n",
      "Subgroup number: 34 / 120\r\n",
      "-----------------------\r\n"
     ]
    },
    {
     "name": "stdout",
     "output_type": "stream",
     "text": [
      "\r\n",
      "-----------------------\r\n",
      "Subgroup number: 35 / 120\r\n",
      "-----------------------\r\n"
     ]
    },
    {
     "name": "stdout",
     "output_type": "stream",
     "text": [
      "\r\n",
      "-----------------------\r\n",
      "Subgroup number: 36 / 120\r\n",
      "-----------------------\r\n"
     ]
    },
    {
     "name": "stdout",
     "output_type": "stream",
     "text": [
      "\r\n",
      "-----------------------\r\n",
      "Subgroup number: 37 / 120\r\n",
      "-----------------------\r\n"
     ]
    },
    {
     "name": "stdout",
     "output_type": "stream",
     "text": [
      "\r\n",
      "-----------------------\r\n",
      "Subgroup number: 38 / 120\r\n",
      "-----------------------\r\n"
     ]
    },
    {
     "name": "stdout",
     "output_type": "stream",
     "text": [
      "\r\n",
      "-----------------------\r\n",
      "Subgroup number: 39 / 120\r\n",
      "-----------------------\r\n"
     ]
    },
    {
     "name": "stdout",
     "output_type": "stream",
     "text": [
      "\r\n",
      "-----------------------\r\n",
      "Subgroup number: 40 / 120\r\n",
      "-----------------------\r\n"
     ]
    },
    {
     "name": "stdout",
     "output_type": "stream",
     "text": [
      "\r\n",
      "-----------------------\r\n",
      "Subgroup number: 41 / 120\r\n",
      "-----------------------\r\n"
     ]
    },
    {
     "name": "stdout",
     "output_type": "stream",
     "text": [
      "\r\n",
      "-----------------------\r\n",
      "Subgroup number: 42 / 120\r\n",
      "-----------------------\r\n"
     ]
    },
    {
     "name": "stdout",
     "output_type": "stream",
     "text": [
      "\r\n",
      "-----------------------\r\n",
      "Subgroup number: 43 / 120\r\n",
      "-----------------------\r\n"
     ]
    },
    {
     "name": "stdout",
     "output_type": "stream",
     "text": [
      "\r\n",
      "-----------------------\r\n",
      "Subgroup number: 44 / 120\r\n",
      "-----------------------\r\n"
     ]
    },
    {
     "name": "stdout",
     "output_type": "stream",
     "text": [
      "\r\n",
      "-----------------------\r\n",
      "Subgroup number: 45 / 120\r\n",
      "-----------------------\r\n"
     ]
    },
    {
     "name": "stdout",
     "output_type": "stream",
     "text": [
      "\r\n",
      "-----------------------\r\n",
      "Subgroup number: 46 / 120\r\n",
      "-----------------------\r\n"
     ]
    },
    {
     "name": "stdout",
     "output_type": "stream",
     "text": [
      "\r\n",
      "-----------------------\r\n",
      "Subgroup number: 47 / 120\r\n",
      "-----------------------\r\n"
     ]
    },
    {
     "name": "stdout",
     "output_type": "stream",
     "text": [
      "\r\n",
      "-----------------------\r\n",
      "Subgroup number: 48 / 120\r\n",
      "-----------------------\r\n",
      "\r\n",
      "-----------------------\r\n",
      "Subgroup number: 49 / 120\r\n",
      "-----------------------\r\n"
     ]
    },
    {
     "name": "stdout",
     "output_type": "stream",
     "text": [
      "\r\n",
      "-----------------------\r\n",
      "Subgroup number: 50 / 120\r\n",
      "-----------------------\r\n"
     ]
    },
    {
     "name": "stdout",
     "output_type": "stream",
     "text": [
      "\r\n",
      "-----------------------\r\n",
      "Subgroup number: 51 / 120\r\n",
      "-----------------------\r\n"
     ]
    },
    {
     "name": "stdout",
     "output_type": "stream",
     "text": [
      "\r\n",
      "-----------------------\r\n",
      "Subgroup number: 52 / 120\r\n",
      "-----------------------\r\n"
     ]
    },
    {
     "name": "stdout",
     "output_type": "stream",
     "text": [
      "\r\n",
      "-----------------------\r\n",
      "Subgroup number: 53 / 120\r\n",
      "-----------------------\r\n"
     ]
    },
    {
     "name": "stdout",
     "output_type": "stream",
     "text": [
      "\r\n",
      "-----------------------\r\n",
      "Subgroup number: 54 / 120\r\n",
      "-----------------------\r\n"
     ]
    },
    {
     "name": "stdout",
     "output_type": "stream",
     "text": [
      "\r\n",
      "-----------------------\r\n",
      "Subgroup number: 55 / 120\r\n",
      "-----------------------\r\n"
     ]
    },
    {
     "name": "stdout",
     "output_type": "stream",
     "text": [
      "\r\n",
      "-----------------------\r\n",
      "Subgroup number: 56 / 120\r\n",
      "-----------------------\r\n"
     ]
    },
    {
     "name": "stdout",
     "output_type": "stream",
     "text": [
      "\r\n",
      "-----------------------\r\n",
      "Subgroup number: 57 / 120\r\n",
      "-----------------------\r\n"
     ]
    },
    {
     "name": "stdout",
     "output_type": "stream",
     "text": [
      "\r\n",
      "-----------------------\r\n",
      "Subgroup number: 58 / 120\r\n",
      "-----------------------\r\n"
     ]
    },
    {
     "name": "stdout",
     "output_type": "stream",
     "text": [
      "\r\n",
      "-----------------------\r\n",
      "Subgroup number: 59 / 120\r\n",
      "-----------------------\r\n"
     ]
    },
    {
     "name": "stdout",
     "output_type": "stream",
     "text": [
      "\r\n",
      "-----------------------\r\n",
      "Subgroup number: 60 / 120\r\n",
      "-----------------------\r\n"
     ]
    },
    {
     "name": "stdout",
     "output_type": "stream",
     "text": [
      "\r\n",
      "-----------------------\r\n",
      "Subgroup number: 61 / 120\r\n",
      "-----------------------\r\n"
     ]
    },
    {
     "name": "stdout",
     "output_type": "stream",
     "text": [
      "\r\n",
      "-----------------------\r\n",
      "Subgroup number: 62 / 120\r\n",
      "-----------------------\r\n"
     ]
    },
    {
     "name": "stdout",
     "output_type": "stream",
     "text": [
      "\r\n",
      "-----------------------\r\n",
      "Subgroup number: 63 / 120\r\n",
      "-----------------------\r\n"
     ]
    },
    {
     "name": "stdout",
     "output_type": "stream",
     "text": [
      "\r\n",
      "-----------------------\r\n",
      "Subgroup number: 64 / 120\r\n",
      "-----------------------\r\n"
     ]
    },
    {
     "name": "stdout",
     "output_type": "stream",
     "text": [
      "\r\n",
      "-----------------------\r\n",
      "Subgroup number: 65 / 120\r\n",
      "-----------------------\r\n"
     ]
    },
    {
     "name": "stdout",
     "output_type": "stream",
     "text": [
      "\r\n",
      "-----------------------\r\n",
      "Subgroup number: 66 / 120\r\n",
      "-----------------------\r\n",
      "\r\n",
      "-----------------------\r\n",
      "Subgroup number: 67 / 120\r\n",
      "-----------------------\r\n"
     ]
    },
    {
     "name": "stdout",
     "output_type": "stream",
     "text": [
      "\r\n",
      "-----------------------\r\n",
      "Subgroup number: 68 / 120\r\n",
      "-----------------------\r\n"
     ]
    },
    {
     "name": "stdout",
     "output_type": "stream",
     "text": [
      "\r\n",
      "-----------------------\r\n",
      "Subgroup number: 69 / 120\r\n",
      "-----------------------\r\n"
     ]
    },
    {
     "name": "stdout",
     "output_type": "stream",
     "text": [
      "\r\n",
      "-----------------------\r\n",
      "Subgroup number: 70 / 120\r\n",
      "-----------------------\r\n"
     ]
    },
    {
     "name": "stdout",
     "output_type": "stream",
     "text": [
      "\r\n",
      "-----------------------\r\n",
      "Subgroup number: 71 / 120\r\n",
      "-----------------------\r\n"
     ]
    },
    {
     "name": "stdout",
     "output_type": "stream",
     "text": [
      "\r\n",
      "-----------------------\r\n",
      "Subgroup number: 72 / 120\r\n",
      "-----------------------\r\n"
     ]
    },
    {
     "name": "stdout",
     "output_type": "stream",
     "text": [
      "\r\n",
      "-----------------------\r\n",
      "Subgroup number: 73 / 120\r\n",
      "-----------------------\r\n"
     ]
    },
    {
     "name": "stdout",
     "output_type": "stream",
     "text": [
      "\r\n",
      "-----------------------\r\n",
      "Subgroup number: 74 / 120\r\n",
      "-----------------------\r\n"
     ]
    },
    {
     "name": "stdout",
     "output_type": "stream",
     "text": [
      "\r\n",
      "-----------------------\r\n",
      "Subgroup number: 75 / 120\r\n",
      "-----------------------\r\n"
     ]
    },
    {
     "name": "stdout",
     "output_type": "stream",
     "text": [
      "\r\n",
      "-----------------------\r\n",
      "Subgroup number: 76 / 120\r\n",
      "-----------------------\r\n"
     ]
    },
    {
     "name": "stdout",
     "output_type": "stream",
     "text": [
      "\r\n",
      "-----------------------\r\n",
      "Subgroup number: 77 / 120\r\n",
      "-----------------------\r\n"
     ]
    },
    {
     "name": "stdout",
     "output_type": "stream",
     "text": [
      "\r\n",
      "-----------------------\r\n",
      "Subgroup number: 78 / 120\r\n",
      "-----------------------\r\n"
     ]
    },
    {
     "name": "stdout",
     "output_type": "stream",
     "text": [
      "\r\n",
      "-----------------------\r\n",
      "Subgroup number: 79 / 120\r\n",
      "-----------------------\r\n"
     ]
    },
    {
     "name": "stdout",
     "output_type": "stream",
     "text": [
      "\r\n",
      "-----------------------\r\n",
      "Subgroup number: 80 / 120\r\n",
      "-----------------------\r\n"
     ]
    },
    {
     "name": "stdout",
     "output_type": "stream",
     "text": [
      "\r\n",
      "-----------------------\r\n",
      "Subgroup number: 81 / 120\r\n",
      "-----------------------\r\n"
     ]
    },
    {
     "name": "stdout",
     "output_type": "stream",
     "text": [
      "\r\n",
      "-----------------------\r\n",
      "Subgroup number: 82 / 120\r\n",
      "-----------------------\r\n"
     ]
    },
    {
     "name": "stdout",
     "output_type": "stream",
     "text": [
      "\r\n",
      "-----------------------\r\n",
      "Subgroup number: 83 / 120\r\n",
      "-----------------------\r\n"
     ]
    },
    {
     "name": "stdout",
     "output_type": "stream",
     "text": [
      "\r\n",
      "-----------------------\r\n",
      "Subgroup number: 84 / 120\r\n",
      "-----------------------\r\n"
     ]
    },
    {
     "name": "stdout",
     "output_type": "stream",
     "text": [
      "\r\n",
      "-----------------------\r\n",
      "Subgroup number: 85 / 120\r\n",
      "-----------------------\r\n"
     ]
    },
    {
     "name": "stdout",
     "output_type": "stream",
     "text": [
      "\r\n",
      "-----------------------\r\n",
      "Subgroup number: 86 / 120\r\n",
      "-----------------------\r\n"
     ]
    },
    {
     "name": "stdout",
     "output_type": "stream",
     "text": [
      "\r\n",
      "-----------------------\r\n",
      "Subgroup number: 87 / 120\r\n",
      "-----------------------\r\n"
     ]
    },
    {
     "name": "stdout",
     "output_type": "stream",
     "text": [
      "\r\n",
      "-----------------------\r\n",
      "Subgroup number: 88 / 120\r\n",
      "-----------------------\r\n"
     ]
    },
    {
     "name": "stdout",
     "output_type": "stream",
     "text": [
      "\r\n",
      "-----------------------\r\n",
      "Subgroup number: 89 / 120\r\n",
      "-----------------------\r\n"
     ]
    },
    {
     "name": "stdout",
     "output_type": "stream",
     "text": [
      "\r\n",
      "-----------------------\r\n",
      "Subgroup number: 90 / 120\r\n",
      "-----------------------\r\n"
     ]
    },
    {
     "name": "stdout",
     "output_type": "stream",
     "text": [
      "\r\n",
      "-----------------------\r\n",
      "Subgroup number: 91 / 120\r\n",
      "-----------------------\r\n"
     ]
    },
    {
     "name": "stdout",
     "output_type": "stream",
     "text": [
      "\r\n",
      "-----------------------\r\n",
      "Subgroup number: 92 / 120\r\n",
      "-----------------------\r\n"
     ]
    },
    {
     "name": "stdout",
     "output_type": "stream",
     "text": [
      "\r\n",
      "-----------------------\r\n",
      "Subgroup number: 93 / 120\r\n",
      "-----------------------\r\n"
     ]
    },
    {
     "name": "stdout",
     "output_type": "stream",
     "text": [
      "\r\n",
      "-----------------------\r\n",
      "Subgroup number: 94 / 120\r\n",
      "-----------------------\r\n"
     ]
    },
    {
     "name": "stdout",
     "output_type": "stream",
     "text": [
      "\r\n",
      "-----------------------\r\n",
      "Subgroup number: 95 / 120\r\n",
      "-----------------------\r\n"
     ]
    },
    {
     "name": "stdout",
     "output_type": "stream",
     "text": [
      "\r\n",
      "-----------------------\r\n",
      "Subgroup number: 96 / 120\r\n",
      "-----------------------\r\n"
     ]
    },
    {
     "name": "stdout",
     "output_type": "stream",
     "text": [
      "\r\n",
      "-----------------------\r\n",
      "Subgroup number: 97 / 120\r\n",
      "-----------------------\r\n"
     ]
    },
    {
     "name": "stdout",
     "output_type": "stream",
     "text": [
      "\r\n",
      "-----------------------\r\n",
      "Subgroup number: 98 / 120\r\n",
      "-----------------------\r\n"
     ]
    },
    {
     "name": "stdout",
     "output_type": "stream",
     "text": [
      "\r\n",
      "-----------------------\r\n",
      "Subgroup number: 99 / 120\r\n",
      "-----------------------\r\n"
     ]
    },
    {
     "name": "stdout",
     "output_type": "stream",
     "text": [
      "\r\n",
      "-----------------------\r\n",
      "Subgroup number: 100 / 120\r\n",
      "-----------------------\r\n"
     ]
    },
    {
     "name": "stdout",
     "output_type": "stream",
     "text": [
      "\r\n",
      "-----------------------\r\n",
      "Subgroup number: 101 / 120\r\n",
      "-----------------------\r\n"
     ]
    },
    {
     "name": "stdout",
     "output_type": "stream",
     "text": [
      "\r\n",
      "-----------------------\r\n",
      "Subgroup number: 102 / 120\r\n",
      "-----------------------\r\n"
     ]
    },
    {
     "name": "stdout",
     "output_type": "stream",
     "text": [
      "\r\n",
      "-----------------------\r\n",
      "Subgroup number: 103 / 120\r\n",
      "-----------------------\r\n"
     ]
    },
    {
     "name": "stdout",
     "output_type": "stream",
     "text": [
      "\r\n",
      "-----------------------\r\n",
      "Subgroup number: 104 / 120\r\n",
      "-----------------------\r\n"
     ]
    },
    {
     "name": "stdout",
     "output_type": "stream",
     "text": [
      "\r\n",
      "-----------------------\r\n",
      "Subgroup number: 105 / 120\r\n",
      "-----------------------\r\n"
     ]
    },
    {
     "name": "stdout",
     "output_type": "stream",
     "text": [
      "\r\n",
      "-----------------------\r\n",
      "Subgroup number: 106 / 120\r\n",
      "-----------------------\r\n"
     ]
    },
    {
     "name": "stdout",
     "output_type": "stream",
     "text": [
      "\r\n",
      "Dixmier--Ohno invariants found:\r\n",
      "[ 1, -328943347961958902527698841712215709/18108492300169094687459999459336530632, -6993563561242511145168701299686698906686013254936434861287/980801104943005759489363557341300296062251885219536267104, -4050477385363134019083779031977037645672420380533782956509/980801104943005759489363557341300296062251885219536267104, -295854994957917685350347464334578994861684299731913986955858274235244532575/276680385043832860052379643024981861793887034819176897856047873254418957014, -803709597285275967233786952769382628647782533362557919865009574924471062613/184453590029221906701586428683321241195924689879451265237365248836279304676, 366618250936307195198885498897865557891342037921623697853081693866082887296205726694190633081023/189448845406482773235941883730624539570139751623957538637278895321913949800776975951481919250432, 755888828561822467157669215215217587272667081081437274561582178475380892104254712739123333773787/568346536219448319707825651191873618710419254871872615911836685965741849402330927854445757751296, 36402556317604725993840089897910609356874115903196554088683479398852554877503659990768113202198939092628705490293715/2565255486553122658294166317401441752590372027260677625913020714834734081869007629226791582726323079077223553458176, 4325185606364884898758404189446582019815959773234840747911574886133080663872459565973394604207038412076674853172985/855085162184374219431388772467147250863457342420225875304340238278244693956335876408930527575441026359074517819392, 215265205501133002177444806256806421904913545531336004751512336089092205458806482937279900218763478109265440082152888697755088988514171/69470317405964173866219674531961318731042716890075540508617272204620229024591634688452190116086174383198615460466874697048729156468736, 2245614863539267345155609672270113580259178470135276651639086057000201492267701456428038328755117566055475125516633256457626668843929/97707900711623310641659176556907621281354032194199072445312619134486960653434085356472841232188712212656280535115154285581897547776, 1627903234174810144840611173201722774081678527787896925223087627428308702286484258018887651968840836159014290541775277360759298271037065358283628036582985325067397583/2054821211463079467059661123160260024047807362700541057207798710775386805375553133172092343621075582843714708968004609251162835420695796862936931153342911635137536 ]\r\n",
      "\r\n",
      "-----------------------\r\n",
      "Subgroup number: 107 / 120\r\n",
      "-----------------------\r\n"
     ]
    },
    {
     "name": "stdout",
     "output_type": "stream",
     "text": [
      "\r\n",
      "-----------------------\r\n",
      "Subgroup number: 108 / 120\r\n",
      "-----------------------\r\n"
     ]
    },
    {
     "name": "stdout",
     "output_type": "stream",
     "text": [
      "\r\n",
      "-----------------------\r\n",
      "Subgroup number: 109 / 120\r\n",
      "-----------------------\r\n"
     ]
    },
    {
     "name": "stdout",
     "output_type": "stream",
     "text": [
      "\r\n",
      "-----------------------\r\n",
      "Subgroup number: 110 / 120\r\n",
      "-----------------------\r\n"
     ]
    },
    {
     "name": "stdout",
     "output_type": "stream",
     "text": [
      "\r\n",
      "-----------------------\r\n",
      "Subgroup number: 111 / 120\r\n",
      "-----------------------\r\n"
     ]
    },
    {
     "name": "stdout",
     "output_type": "stream",
     "text": [
      "\r\n",
      "-----------------------\r\n",
      "Subgroup number: 112 / 120\r\n",
      "-----------------------\r\n"
     ]
    },
    {
     "name": "stdout",
     "output_type": "stream",
     "text": [
      "\r\n",
      "-----------------------\r\n",
      "Subgroup number: 113 / 120\r\n",
      "-----------------------\r\n"
     ]
    },
    {
     "name": "stdout",
     "output_type": "stream",
     "text": [
      "\r\n",
      "-----------------------\r\n",
      "Subgroup number: 114 / 120\r\n",
      "-----------------------\r\n"
     ]
    },
    {
     "name": "stdout",
     "output_type": "stream",
     "text": [
      "\r\n",
      "-----------------------\r\n",
      "Subgroup number: 115 / 120\r\n",
      "-----------------------\r\n"
     ]
    },
    {
     "name": "stdout",
     "output_type": "stream",
     "text": [
      "\r\n",
      "-----------------------\r\n",
      "Subgroup number: 116 / 120\r\n",
      "-----------------------\r\n"
     ]
    },
    {
     "name": "stdout",
     "output_type": "stream",
     "text": [
      "\r\n",
      "-----------------------\r\n",
      "Subgroup number: 117 / 120\r\n",
      "-----------------------\r\n"
     ]
    },
    {
     "name": "stdout",
     "output_type": "stream",
     "text": [
      "\r\n",
      "-----------------------\r\n",
      "Subgroup number: 118 / 120\r\n",
      "-----------------------\r\n"
     ]
    },
    {
     "name": "stdout",
     "output_type": "stream",
     "text": [
      "\r\n",
      "Dixmier--Ohno invariants found:\r\n",
      "[ 1, -328943347961958902527698841712215709/18108492300169094687459999459336530632, -6993563561242511145168701299686698906686013254936434861287/980801104943005759489363557341300296062251885219536267104, -4050477385363134019083779031977037645672420380533782956509/980801104943005759489363557341300296062251885219536267104, -295854994957917685350347464334578994861684299731913986955858274235244532575/276680385043832860052379643024981861793887034819176897856047873254418957014, -803709597285275967233786952769382628647782533362557919865009574924471062613/184453590029221906701586428683321241195924689879451265237365248836279304676, 366618250936307195198885498897865557891342037921623697853081693866082887296205726694190633081023/189448845406482773235941883730624539570139751623957538637278895321913949800776975951481919250432, 755888828561822467157669215215217587272667081081437274561582178475380892104254712739123333773787/568346536219448319707825651191873618710419254871872615911836685965741849402330927854445757751296, 36402556317604725993840089897910609356874115903196554088683479398852554877503659990768113202198939092628705490293715/2565255486553122658294166317401441752590372027260677625913020714834734081869007629226791582726323079077223553458176, 4325185606364884898758404189446582019815959773234840747911574886133080663872459565973394604207038412076674853172985/855085162184374219431388772467147250863457342420225875304340238278244693956335876408930527575441026359074517819392, 215265205501133002177444806256806421904913545531336004751512336089092205458806482937279900218763478109265440082152888697755088988514171/69470317405964173866219674531961318731042716890075540508617272204620229024591634688452190116086174383198615460466874697048729156468736, 2245614863539267345155609672270113580259178470135276651639086057000201492267701456428038328755117566055475125516633256457626668843929/97707900711623310641659176556907621281354032194199072445312619134486960653434085356472841232188712212656280535115154285581897547776, 1627903234174810144840611173201722774081678527787896925223087627428308702286484258018887651968840836159014290541775277360759298271037065358283628036582985325067397583/2054821211463079467059661123160260024047807362700541057207798710775386805375553133172092343621075582843714708968004609251162835420695796862936931153342911635137536 ]\r\n",
      "\r\n",
      "-----------------------\r\n",
      "Subgroup number: 119 / 120\r\n",
      "-----------------------\r\n"
     ]
    },
    {
     "name": "stdout",
     "output_type": "stream",
     "text": [
      "\r\n",
      "-----------------------\r\n",
      "Subgroup number: 120 / 120\r\n",
      "-----------------------\r\n"
     ]
    },
    {
     "name": "stdout",
     "output_type": "stream",
     "text": [
      "[*\r\n",
      "Curve over Rational Field defined by\r\n",
      "$.1^4 + 1519712464204639059805828825679424986502156078562027148296125106064464849937770178204424370843204764892882553506868816759440216712602818697331895397415134858330819081904974672763345688356448492492322/414450498018117779389521726001559703275871165023193981231835959185213770016578500382010452676211256865342094403186278989254497943478617824715875075547848615986714803098499219140315356598756123611871*$.1^3*$.2 + 191164327960513275482022866065268892796803015882357295512275495561867505748731688060388600891027248258712080505178480179758380466798891647801667774668837431624142230349431719601690079364671641842592/138150166006039259796507242000519901091957055007731327077278653061737923338859500127336817558737085621780698134395426329751499314492872608238625025182616205328904934366166406380105118866252041203957*$.1^3*$.3 + 160422930519919288720611657205873983443898664152070810577306346642959003666362126253805240407732568900698766645910555090485514449277632322283255255929668796663296657688510862906116505227992113917996/46050055335346419932169080666839967030652351669243775692426217687245974446286500042445605852912361873926899378131808776583833104830957536079541675060872068442968311455388802126701706288750680401319*$.1^2*$.2^2 + 430987480972345161857556718719693223794904486733749670264428119861630521726217149172620172708333758956116336340235948745016663937465058158862574557390728000590656134060363098252315213218742696471686/46050055335346419932169080666839967030652351669243775692426217687245974446286500042445605852912361873926899378131808776583833104830957536079541675060872068442968311455388802126701706288750680401319*$.1^2*$.2*$.3 - 26715676976403887034234914989969788165616229669580882021763207176321432935585867269449290618912585734896051081795846148750811344860167097904137274985841409457184301082585281215505504921147090314441877615619046/11344123415768378200424464502655672193971954905298008756048072815549380130607020539789312871455519563981166450610404445335634117896278789645268883113148867226041645308197509401760895078951652070469601832566329*$.1^2*$.3^2 + 20967651072634394712360413508615108788534380365345245132189955410181691035164984069354755774900981831360139837995424291491987984138282438815003332159568336323009614485553557418014647415693477318462/46050055335346419932169080666839967030652351669243775692426217687245974446286500042445605852912361873926899378131808776583833104830957536079541675060872068442968311455388802126701706288750680401319*$.1*$.2^3 + 88792292122142932873418903925936344696585208978603150231072609623515713139186373519077744779793791310225873769401873600697710016101976522850497609871257877565380532652468794540887579679873164007987005440087508/11344123415768378200424464502655672193971954905298008756048072815549380130607020539789312871455519563981166450610404445335634117896278789645268883113148867226041645308197509401760895078951652070469601832566329*$.1*$.2^2*$.3 + 116776824627973336153091784929550198961564355210733448185045556397943931590390048170928843847815025821367229778917477653874661141900060410567099329850733795961056614315540449678967910703788071397054/46050055335346419932169080666839967030652351669243775692426217687245974446286500042445605852912361873926899378131808776583833104830957536079541675060872068442968311455388802126701706288750680401319*$.1*$.2*$.3^2 - 92445447481461175050350900847500676521294654538850273513719581100114495517096309846835148173032390884981208093867373127746573054860609298919806490665929548618773967618008011281895534734415036829256/46050055335346419932169080666839967030652351669243775692426217687245974446286500042445605852912361873926899378131808776583833104830957536079541675060872068442968311455388802126701706288750680401319*$.1*$.3^3 - 2785994908685062054397744984534637515729389357978901164958989228272028472129781597552713555251426771538980995996575488094490824952856779842487584557698071205959881426400380585321181981638608137876375711499741/11344123415768378200424464502655672193971954905298008756048072815549380130607020539789312871455519563981166450610404445335634117896278789645268883113148867226041645308197509401760895078951652070469601832566329*$.2^4 + 67958849668098607756331334538923500938454538120872511327322285106958926532241904950211443953532261258593805769942816510901657765524451543000279658601376429590756892191183101227145831314424425626118/46050055335346419932169080666839967030652351669243775692426217687245974446286500042445605852912361873926899378131808776583833104830957536079541675060872068442968311455388802126701706288750680401319*$.2^3*$.3 + 109373215927223699374764613863487242939212135988218827049359401449899146085625946114160275860986498519928490675009482781383908651326056645725508200840926330076986346564135108603099650851170043997816/46050055335346419932169080666839967030652351669243775692426217687245974446286500042445605852912361873926899378131808776583833104830957536079541675060872068442968311455388802126701706288750680401319*$.2^2*$.3^2 + 24098489038759797038519874994483046543080174398802637322271655965760818852432721758865841561333488834410369401617145881943908068749301462083267809015563605502930173015249682823664008557079045185002/46050055335346419932169080666839967030652351669243775692426217687245974446286500042445605852912361873926899378131808776583833104830957536079541675060872068442968311455388802126701706288750680401319*$.2*$.3^3 - 13776027141105225478323225145501403875765798283482646458105546235881508004980142687804802628059556271808741906373125877110495601249721342318311157618875555150846761635231211668294801350498874267621/46050055335346419932169080666839967030652351669243775692426217687245974446286500042445605852912361873926899378131808776583833104830957536079541675060872068442968311455388802126701706288750680401319*$.3^4\r\n",
      "*]\r\n"
     ]
    },
    {
     "name": "stdout",
     "output_type": "stream",
     "text": [
     ]
    }
   ],
   "source": [
    "gluings := AllGeometricGluingsCCEfficient(X, Y, F, ell);\n",
    "print gluings;"
   ]
  },
  {
   "cell_type": "code",
   "execution_count": 72,
   "metadata": {
    "collapsed": false
   },
   "outputs": [
    {
     "name": "stdout",
     "output_type": "stream",
     "text": [
      "Curve over Rational Field defined by\r\n",
      "$.1^4 + 1519712464204639059805828825679424986502156078562027148296125106064464849937770178204424370843204764892882553506868816759440216712602818697331895397415134858330819081904974672763345688356448492492322/414450498018117779389521726001559703275871165023193981231835959185213770016578500382010452676211256865342094403186278989254497943478617824715875075547848615986714803098499219140315356598756123611871*$.1^3*$.2 + 191164327960513275482022866065268892796803015882357295512275495561867505748731688060388600891027248258712080505178480179758380466798891647801667774668837431624142230349431719601690079364671641842592/138150166006039259796507242000519901091957055007731327077278653061737923338859500127336817558737085621780698134395426329751499314492872608238625025182616205328904934366166406380105118866252041203957*$.1^3*$.3 + 160422930519919288720611657205873983443898664152070810577306346642959003666362126253805240407732568900698766645910555090485514449277632322283255255929668796663296657688510862906116505227992113917996/46050055335346419932169080666839967030652351669243775692426217687245974446286500042445605852912361873926899378131808776583833104830957536079541675060872068442968311455388802126701706288750680401319*$.1^2*$.2^2 + 430987480972345161857556718719693223794904486733749670264428119861630521726217149172620172708333758956116336340235948745016663937465058158862574557390728000590656134060363098252315213218742696471686/46050055335346419932169080666839967030652351669243775692426217687245974446286500042445605852912361873926899378131808776583833104830957536079541675060872068442968311455388802126701706288750680401319*$.1^2*$.2*$.3 - 26715676976403887034234914989969788165616229669580882021763207176321432935585867269449290618912585734896051081795846148750811344860167097904137274985841409457184301082585281215505504921147090314441877615619046/11344123415768378200424464502655672193971954905298008756048072815549380130607020539789312871455519563981166450610404445335634117896278789645268883113148867226041645308197509401760895078951652070469601832566329*$.1^2*$.3^2 + 20967651072634394712360413508615108788534380365345245132189955410181691035164984069354755774900981831360139837995424291491987984138282438815003332159568336323009614485553557418014647415693477318462/46050055335346419932169080666839967030652351669243775692426217687245974446286500042445605852912361873926899378131808776583833104830957536079541675060872068442968311455388802126701706288750680401319*$.1*$.2^3 + 88792292122142932873418903925936344696585208978603150231072609623515713139186373519077744779793791310225873769401873600697710016101976522850497609871257877565380532652468794540887579679873164007987005440087508/11344123415768378200424464502655672193971954905298008756048072815549380130607020539789312871455519563981166450610404445335634117896278789645268883113148867226041645308197509401760895078951652070469601832566329*$.1*$.2^2*$.3 + 116776824627973336153091784929550198961564355210733448185045556397943931590390048170928843847815025821367229778917477653874661141900060410567099329850733795961056614315540449678967910703788071397054/46050055335346419932169080666839967030652351669243775692426217687245974446286500042445605852912361873926899378131808776583833104830957536079541675060872068442968311455388802126701706288750680401319*$.1*$.2*$.3^2 - 92445447481461175050350900847500676521294654538850273513719581100114495517096309846835148173032390884981208093867373127746573054860609298919806490665929548618773967618008011281895534734415036829256/46050055335346419932169080666839967030652351669243775692426217687245974446286500042445605852912361873926899378131808776583833104830957536079541675060872068442968311455388802126701706288750680401319*$.1*$.3^3 - 2785994908685062054397744984534637515729389357978901164958989228272028472129781597552713555251426771538980995996575488094490824952856779842487584557698071205959881426400380585321181981638608137876375711499741/11344123415768378200424464502655672193971954905298008756048072815549380130607020539789312871455519563981166450610404445335634117896278789645268883113148867226041645308197509401760895078951652070469601832566329*$.2^4 + 67958849668098607756331334538923500938454538120872511327322285106958926532241904950211443953532261258593805769942816510901657765524451543000279658601376429590756892191183101227145831314424425626118/46050055335346419932169080666839967030652351669243775692426217687245974446286500042445605852912361873926899378131808776583833104830957536079541675060872068442968311455388802126701706288750680401319*$.2^3*$.3 + 109373215927223699374764613863487242939212135988218827049359401449899146085625946114160275860986498519928490675009482781383908651326056645725508200840926330076986346564135108603099650851170043997816/46050055335346419932169080666839967030652351669243775692426217687245974446286500042445605852912361873926899378131808776583833104830957536079541675060872068442968311455388802126701706288750680401319*$.2^2*$.3^2 + 24098489038759797038519874994483046543080174398802637322271655965760818852432721758865841561333488834410369401617145881943908068749301462083267809015563605502930173015249682823664008557079045185002/46050055335346419932169080666839967030652351669243775692426217687245974446286500042445605852912361873926899378131808776583833104830957536079541675060872068442968311455388802126701706288750680401319*$.2*$.3^3 - 13776027141105225478323225145501403875765798283482646458105546235881508004980142687804802628059556271808741906373125877110495601249721342318311157618875555150846761635231211668294801350498874267621/46050055335346419932169080666839967030652351669243775692426217687245974446286500042445605852912361873926899378131808776583833104830957536079541675060872068442968311455388802126701706288750680401319*$.3^4\r\n"
     ]
    },
    {
     "name": "stdout",
     "output_type": "stream",
     "text": [
      "[ [*\r\n",
      "[1 0 0]\r\n",
      "[0 1 0]\r\n",
      "[0 0 1],\r\n",
      "\r\n",
      "[1 0 0 0 0 0]\r\n",
      "[0 1 0 0 0 0]\r\n",
      "[0 0 1 0 0 0]\r\n",
      "[0 0 0 1 0 0]\r\n",
      "[0 0 0 0 1 0]\r\n",
      "[0 0 0 0 0 1]\r\n",
      "*], [*\r\n",
      "[24275994369081731626397335095714542982500432523094307863403948033843140344251/11834199798316707414013898573383159794467371989276559478234330969409781303000 1358275181978644093930818181267318068264430083234162265968777821681490871701/23668399596633414828027797146766319588934743978553118956468661938819562606000 12492754033573821846603003855620797607536547911192156340855103964516102218/1479274974789588426751737321672894974308421498659569934779291371176222662875]\r\n",
      "[-28290270312493138193053362062188550000030480290789396434701100760905794605677/5917099899158353707006949286691579897233685994638279739117165484704890651500 -39574363177786666703521542702682434927197487980644988834036120826626006357827/11834199798316707414013898573383159794467371989276559478234330969409781303000 -1163352301841455633620921986986861997398949289128232584552758114604696204172/1479274974789588426751737321672894974308421498659569934779291371176222662875]\r\n",
      "[63180954013404782298639995435685838213017430307447746390575144961302711511087/35502599394950122242041695720149479383402115967829678434702992908229343909000 141240717829647714908713979822751918356173385746277710044908538514192644458737/71005198789900244484083391440298958766804231935659356869405985816458687818000 3391571075877705311392263272543881467395553430853405056108312970274080914572/1479274974789588426751737321672894974308421498659569934779291371176222662875],\r\n",
      "\r\n",
      "[-1 -1  3  0 -2 -2]\r\n",
      "[ 2  2 -2  2  0  0]\r\n",
      "[ 2  0  0  2  0  0]\r\n",
      "[ 0  1  0 -1  2  2]\r\n",
      "[-1  0  1 -1  2  0]\r\n",
      "[ 0 -1  0  3 -2  0]\r\n",
      "*] ]\r\n",
      "Endomorphism algebra:\r\n",
      "QQ x QQ\r\n",
      "Endomorphism ring:\r\n",
      "A subring of index 5 in the maximal order of the endomorphism algebra\r\n",
      "Endomorphism algebra tensored with RR:\r\n",
      "RR x RR\r\n"
     ]
    },
    {
     "name": "stdout",
     "output_type": "stream",
     "text": [
      "Runtime error: Error in determining tangent representation: 0.89667\r\n"
     ]
    },
    {
     "name": "stdout",
     "output_type": "stream",
     "text": [
     ]
    }
   ],
   "source": [
    "VerifyGluing(X, Y, gluings[1], 1000);"
   ]
  }
 ],
 "metadata": {
  "kernelspec": {
   "argv": [
    "/usr/bin/python3",
    "-m",
    "magma_kernel",
    "-f",
    "{connection_file}"
   ],
   "display_name": "Magma",
   "env": {
    "PS1": "$"
   },
   "language": "magma",
   "name": "magma",
   "resource_dir": "/usr/local/share/jupyter/kernels/magma"
  },
  "language_info": {
   "codemirror_mode": "pascal",
   "file_extension": ".m",
   "mimetype": "text/x-magma",
   "name": "magma",
   "version": "2.28-16"
  }
 },
 "nbformat": 4,
 "nbformat_minor": 4
}