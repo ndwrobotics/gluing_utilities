{
 "cells": [
  {
   "cell_type": "code",
   "execution_count": 31,
   "metadata": {
    "collapsed": false
   },
   "outputs": [
   ],
   "source": [
    "import time\n",
    "import timeout_decorator\n",
    "\n",
    "@timeout_decorator.timeout(5)\n",
    "def mytest():\n",
    "    magma.quit()\n",
    "    print(\"Start\")\n",
    "    print(f\"{magma.Getpid()}\")\n",
    "    magma.eval(\"Sleep(20);\")\n",
    "    for i in range(1,10):\n",
    "        \n",
    "        print(f\"{magma.Getpid()}: {i} seconds have passed\")"
   ]
  },
  {
   "cell_type": "code",
   "execution_count": 39,
   "metadata": {
    "collapsed": false
   },
   "outputs": [
    {
     "name": "stdout",
     "output_type": "stream",
     "text": [
      "1870499\n"
     ]
    },
    {
     "name": "stdout",
     "output_type": "stream",
     "text": [
      "Start\n"
     ]
    },
    {
     "name": "stdout",
     "output_type": "stream",
     "text": [
      "1870537\n"
     ]
    },
    {
     "name": "stdout",
     "output_type": "stream",
     "text": [
      "'Timed Out'\n",
      "timed out\n"
     ]
    }
   ],
   "source": [
    "print(magma.Getpid())\n",
    "try:\n",
    "    mytest()\n",
    "except Exception as e:\n",
    "    magma.quit()\n",
    "    print(e)\n",
    "    print(\"timed out\")"
   ]
  },
  {
   "cell_type": "code",
   "execution_count": 40,
   "metadata": {
    "collapsed": false
   },
   "outputs": [
    {
     "name": "stdout",
     "output_type": "stream",
     "text": [
      "1870592\n",
      "2\n"
     ]
    }
   ],
   "source": [
    "print(magma.Getpid())\n",
    "x = magma.eval(\"1+1\")\n",
    "print(x)"
   ]
  },
  {
   "cell_type": "code",
   "execution_count": 28,
   "metadata": {
    "collapsed": false
   },
   "outputs": [
   ],
   "source": [
    "magma.quit()"
   ]
  },
  {
   "cell_type": "code",
   "execution_count": 3,
   "metadata": {
    "collapsed": false
   },
   "outputs": [
   ],
   "source": [
    "import signal\n",
    "import time\n",
    "\n",
    "class TimeoutExpired(Exception):\n",
    "    pass\n",
    "\n",
    "def alarm_handler(signum, frame):\n",
    "    raise TimeoutExpired\n",
    "    \n",
    "def try_with_timeout(func, args=(), kwargs={}, timeout=5):\n",
    "    # Set the signal handler and a 5-second alarm\n",
    "    signal.signal(signal.SIGALRM, alarm_handler)\n",
    "    signal.alarm(timeout)\n",
    "\n",
    "    try:\n",
    "        result = func(*args, **kwargs)\n",
    "    except TimeoutExpired:\n",
    "        print('Operation timed out')\n",
    "        result = None\n",
    "    finally:\n",
    "        signal.alarm(0)  # Disable the alarm\n",
    "\n",
    "    return result"
   ]
  },
  {
   "cell_type": "code",
   "execution_count": 6,
   "metadata": {
    "collapsed": false
   },
   "outputs": [
   ],
   "source": [
    "def signal_test():\n",
    "    print(magma.Getpid())\n",
    "    magma.eval(\"\"\"\n",
    "AttachSpec(\"~/CHIMP/CHIMP.spec\");\n",
    "function DoStuff()\n",
    "R<x> := PolynomialRing(Rationals());\n",
    "C := HyperellipticCurve(R![13, 0, 9, 0, 2], R![0, 1, 0, 1]);\n",
    "\n",
    "prec := 200;\n",
    "CC := ComplexFieldExtra(prec);\n",
    "CSimp := SimplifiedModel(C);\n",
    "A := AnalyticJacobian(CSimp : Precision := prec);\n",
    "M := ChangeRing(PeriodMatrix(CSimp) * 2, CC);\n",
    "FromAnalyticJacobian(Matrix([[CC!-0.8], [CC!0]]), A);\n",
    "return 1;\n",
    "end function;\"\"\")\n",
    "    print(\"Evaluation done\")\n",
    "    return magma.function_call(\"DoStuff\",[])"
   ]
  },
  {
   "cell_type": "code",
   "execution_count": 22,
   "metadata": {
    "collapsed": false
   },
   "outputs": [
    {
     "name": "stdout",
     "output_type": "stream",
     "text": [
      "Start\n",
      "2391716\n"
     ]
    },
    {
     "name": "stderr",
     "output_type": "stream",
     "text": [
      "IOStream.flush timed out\n"
     ]
    },
    {
     "name": "stdout",
     "output_type": "stream",
     "text": [
      "Operation timed out\n",
      "None\n"
     ]
    },
    {
     "name": "stdout",
     "output_type": "stream",
     "text": [
      "2\n"
     ]
    }
   ],
   "source": [
    "print(try_with_timeout(signal_test_2))\n",
    "magma.quit()\n",
    "print(magma.eval(\"1+1;\"))"
   ]
  },
  {
   "cell_type": "code",
   "execution_count": 13,
   "metadata": {
    "collapsed": false
   },
   "outputs": [
    {
     "data": {
      "text/plain": [
      ]
     },
     "execution_count": 13,
     "metadata": {
     },
     "output_type": "execute_result"
    }
   ],
   "source": [
    "magma.Getpid()"
   ]
  },
  {
   "cell_type": "code",
   "execution_count": 10,
   "metadata": {
    "collapsed": false
   },
   "outputs": [
   ],
   "source": [
    "def signal_test_2():\n",
    "    print(\"Start\")\n",
    "    print(f\"{magma.Getpid()}\")\n",
    "    magma.eval(\"Sleep(20);\")"
   ]
  }
 ],
 "metadata": {
  "kernelspec": {
   "argv": [
    "sage",
    "--python",
    "-m",
    "sage.repl.ipython_kernel",
    "--matplotlib=inline",
    "-f",
    "{connection_file}"
   ],
   "display_name": "SageMath",
   "env": {
   },
   "language": "sagemath",
   "metadata": {
    "cocalc": {
     "description": "Open-source mathematical software system",
     "priority": 1,
     "url": "https://www.sagemath.org/"
    }
   },
   "name": "sagemath",
   "resource_dir": "/usr/local/share/jupyter/kernels/sagemath"
  }
 },
 "nbformat": 4,
 "nbformat_minor": 4
}